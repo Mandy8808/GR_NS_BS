{
 "cells": [
  {
   "cell_type": "code",
   "execution_count": null,
   "metadata": {},
   "outputs": [],
   "source": []
  },
  {
   "cell_type": "code",
   "execution_count": null,
   "metadata": {},
   "outputs": [],
   "source": [
    "import numpy as np\n",
    "import matplotlib.pyplot as plt"
   ]
  },
  {
   "cell_type": "markdown",
   "metadata": {},
   "source": [
    "Uno de los primeros problemas que nos enfrentamos como físicos son los problemas de vibración los cuales son descritos por **ecuaciones diferenciales ordinarias** (EDO) con soluciones que oscilan en el tiempo, normalmente de forma sinusoidal (amortiguada o no amortiguada). Estas soluciones imponen ciertas exigencias a los métodos numéricos en comparación con otros fenómenos cuyas soluciones son monótonas o muy suaves. Tanto la frecuencia como la amplitud de las oscilaciones deben ser manejadas con precisión por los esquemas numéricos. En sus cursos de métodos numéricos abordaron este tipo de ecuaciones mediante métodos clásicos como:\n",
    "- métodos de Runge-Kutta \n",
    "- punto medio/Crank-Nicolson\n",
    "\n",
    "o esquemas de integración simpléctica (geométrica) más modernos y populares como\n",
    "- métodos de Leapfrog\n",
    "- Euler-Cromer \n",
    "- Stoermer-Verlet\n",
    "\n",
    "A continuación daremos un breve repaso de estos métodos aplicados al problema del oscilador armónico\n",
    "$$\n",
    "u''+\\omega^2 u =0, \\qquad u(0)=u_0, u'(0)=0, \\qquad t\\in (0, T]\n",
    "$$\n",
    "donde $\\omega, u_0$ son constantes que indican la frecuencia y la amplitud de la oscilación respectivamente. Como saben la solución exacta para este problema es $u(t)=u_0 \\cos(wt)$ "
   ]
  },
  {
   "cell_type": "markdown",
   "metadata": {},
   "source": []
  }
 ],
 "metadata": {
  "language_info": {
   "name": "python"
  }
 },
 "nbformat": 4,
 "nbformat_minor": 2
}
