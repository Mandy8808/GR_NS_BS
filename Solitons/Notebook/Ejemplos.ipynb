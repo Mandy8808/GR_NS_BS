{
 "cells": [
  {
   "cell_type": "code",
   "execution_count": 1,
   "metadata": {},
   "outputs": [],
   "source": [
    "%load_ext autoreload\n",
    "%autoreload 2"
   ]
  },
  {
   "cell_type": "code",
   "execution_count": 2,
   "metadata": {},
   "outputs": [],
   "source": [
    "import numpy as np\n",
    "import matplotlib.pyplot as plt\n",
    "\n",
    "import Module as mod"
   ]
  },
  {
   "cell_type": "code",
   "execution_count": 3,
   "metadata": {},
   "outputs": [],
   "source": [
    "import plt_conf as conf\n",
    "conf.general()  # cargando configuración general"
   ]
  },
  {
   "cell_type": "markdown",
   "metadata": {},
   "source": [
    "A continuación veremos varios ejemplos donde utilizar la metodología (los paquetes) anteriormente programados"
   ]
  },
  {
   "cell_type": "code",
   "execution_count": 8,
   "metadata": {},
   "outputs": [],
   "source": [
    "# Ejemplo 1\n",
    "def guitarra(xlim, utilez, NoHomog=[0, 0], ZipName='SimulacionData', info=False,\n",
    "           user_action=None):\n",
    "    \"\"\"\n",
    "    Triangular wave (pulled guitar string).\n",
    "    \"\"\"\n",
    "    \n",
    "    xmin, xmax = xlim\n",
    "    Nx, C, a0, wavelength, freq, num_periods = utilez\n",
    "    \n",
    "    \n",
    "    # parametros\n",
    "    c = freq*wavelength\n",
    "    omega = 2*np.pi*freq\n",
    "    tmax = 2*np.pi/omega*num_periods\n",
    "    x0 = 0.8*xmax\n",
    "    \n",
    "    dt = C*(xmax/Nx)/c\n",
    "    dx = dt/float(C)\n",
    "    \n",
    "    def pulsoCuadr(x, a0, x0):\n",
    "        Ixi = a0*x/x0\n",
    "        ind = x > x0\n",
    "        Ixi[ind] = a0/(xmax-x0)*(xmax-x[ind])\n",
    "        return Ixi\n",
    "    \n",
    "    def u0x(x):\n",
    "        uxi0 = pulsoCuadr(x, a0, x0)\n",
    "        return uxi0\n",
    "    \n",
    "    ut = lambda x: 0        \n",
    "    dVx = lambda u: 0\n",
    "    \n",
    "    u, xi, ti, cpu_time = mod.solver(dt=dt, dx=dx, xmin=xmin, xmax=xmax, tmin=0, tmax=tmax,\n",
    "                                     ux=u0x, dux=ut, dVx=dVx, NoHomog=NoHomog, ZipName=ZipName,\n",
    "                                     info=info, user_action=user_action) \n",
    "    return u, xi, ti, cpu_time"
   ]
  },
  {
   "cell_type": "code",
   "execution_count": 16,
   "metadata": {},
   "outputs": [],
   "source": [
    "# Implementación\n",
    "x0, xmax = 0, 15\n",
    "xlim = [x0, xmax]\n",
    "\n",
    "Nx, m, C = 20, 0, 0.5\n",
    "a0, wavelength, freq, num_periods = 0.01, 2*xmax, .4, 4\n",
    "utilez = [Nx, C, a0, wavelength, freq, num_periods]\n",
    "\n",
    "nameZip = 'SimulacionData1'\n",
    "NoHomog = [0, 0]\n",
    "\n",
    "u, xi, ti, cpu_time = guitarra(xlim, utilez, NoHomog=[0, 0], ZipName=nameZip, info=False,\n",
    "           user_action=None)"
   ]
  },
  {
   "cell_type": "code",
   "execution_count": 17,
   "metadata": {},
   "outputs": [
    {
     "name": "stderr",
     "output_type": "stream",
     "text": [
      "/var/folders/mf/vfyq6zyn4l35gfd2kgq4k2q00000gn/T/ipykernel_48490/1142754304.py:3: UserWarning: cmr10 font should ideally be used with mathtext, set axes.formatter.use_mathtext to True\n",
      "  figData = plt.subplots(nrows=1, ncols=1, figsize=(5, 4), sharex=False, sharey=False,\n"
     ]
    },
    {
     "data": {
      "image/png": "[encoded data removed]",
      "text/plain": [
       "<Figure size 500x400 with 1 Axes>"
      ]
     },
     "metadata": {},
     "output_type": "display_data"
    }
   ],
   "source": [
    "# Creando video\n",
    "address = 'Data/SimulacionData1.npz'\n",
    "figData = plt.subplots(nrows=1, ncols=1, figsize=(5, 4), sharex=False, sharey=False,\n",
    "                       gridspec_kw=dict(hspace=0.0, wspace=.13))\n",
    "\n",
    "dvideo = mod.Visualization(address, figData)\n",
    "\n",
    "n0 = 0\n",
    "dataname = '.data'\n",
    "nameV = 'Guitarra'\n",
    "xmin, xmax, ls, lw, color = xi[0], xi[-1], '-', 1, '#f0784d'\n",
    "struc = [xmin, xmax, ls, lw, color]\n",
    "\n",
    "dvideo.video(n0, dataname, struc, nameV, show=True, ylim=[-a0/2, a0+a0/2])  # -a0-a0/2"
   ]
  },
  {
   "cell_type": "code",
   "execution_count": null,
   "metadata": {},
   "outputs": [],
   "source": []
  },
  {
   "cell_type": "code",
   "execution_count": 4,
   "metadata": {},
   "outputs": [],
   "source": [
    "# Ejemplo 2\n",
    "def ProfGaussiana(xlim, tlim, utilez, NoHomog=[0, 0], ZipName='SimulacionData', info=False,\n",
    "           user_action=None):\n",
    "    \"\"\"Gauss wave (pulled guitar string).\"\"\"\n",
    "    \n",
    "    xmin, xmax = xlim\n",
    "    tmin, tmax = tlim\n",
    "    Nx, C, m, a0, mu, sig = utilez\n",
    "    \n",
    "    dt = C*(xmax/Nx)\n",
    "    dx = dt/float(C) \n",
    "\n",
    "    def gaussian(x, mu, sig, a0):\n",
    "        return a0/(np.sqrt(2.*np.pi)*sig)*np.exp(-np.power((x - mu)/sig, 2.)/2)\n",
    "\n",
    "    def u0x(x):\n",
    "        uxi0 = gaussian(x, mu, sig, a0)\n",
    "        return uxi0\n",
    "    \n",
    "    ut = lambda x: 0        \n",
    "    dVx = lambda u: m*u\n",
    "    \n",
    "    u, xi, ti, cpu_time = mod.solver(dt=dt, dx=dx, xmin=xmin, xmax=xmax, tmin=tmin, tmax=tmax,\n",
    "                                     ux=u0x, dux=ut, dVx=dVx, NoHomog=NoHomog, ZipName=ZipName,\n",
    "                                     info=info, user_action=user_action)\n",
    " \n",
    "    return u, xi, ti, cpu_time"
   ]
  },
  {
   "cell_type": "code",
   "execution_count": 7,
   "metadata": {},
   "outputs": [],
   "source": [
    "# Implementación\n",
    "x0, xmax = -5, 5\n",
    "xlim = [x0, xmax]\n",
    "\n",
    "tmin, tmax = 0, 10\n",
    "tlim = [tmin, tmax]\n",
    "\n",
    "a0, mu, sig = 0.01, 0, 0.5\n",
    "Nx, m, C = 500, 1, 1\n",
    "utilez = [Nx, C, m, a0, mu, sig]\n",
    "nameZip = 'SimulacionData2'\n",
    "NoHomog = [0, 0]\n",
    "\n",
    "u, xi, ti, cpu_time = ProfGaussiana(xlim, tlim, utilez, NoHomog=NoHomog, ZipName=nameZip, info=False,\n",
    "           user_action=None)"
   ]
  },
  {
   "cell_type": "code",
   "execution_count": 8,
   "metadata": {},
   "outputs": [
    {
     "name": "stderr",
     "output_type": "stream",
     "text": [
      "/var/folders/mf/vfyq6zyn4l35gfd2kgq4k2q00000gn/T/ipykernel_51226/1894781048.py:3: UserWarning: cmr10 font should ideally be used with mathtext, set axes.formatter.use_mathtext to True\n",
      "  figData = plt.subplots(nrows=1, ncols=1, figsize=(5, 4), sharex=False, sharey=False,\n"
     ]
    },
    {
     "data": {
      "image/png": "[encoded data removed]",
      "text/plain": [
       "<Figure size 500x400 with 1 Axes>"
      ]
     },
     "metadata": {},
     "output_type": "display_data"
    }
   ],
   "source": [
    "# Creando video\n",
    "address = 'Data/SimulacionData2.npz'\n",
    "figData = plt.subplots(nrows=1, ncols=1, figsize=(5, 4), sharex=False, sharey=False,\n",
    "                       gridspec_kw=dict(hspace=0.0, wspace=.13))\n",
    "\n",
    "dvideo = mod.Visualization(address, figData)\n",
    "\n",
    "n0 = 0\n",
    "dataname = '.data'\n",
    "nameV = 'Gaussiana'\n",
    "xmin, xmax, ls, lw, color = xi[0], xi[-1], '-', 1, '#f0784d'\n",
    "struc = [xmin, xmax, ls, lw, color]\n",
    "\n",
    "dvideo.video(n0, dataname, struc, nameV, show=True, ylim=[-a0/2, a0+a0/2])  # -a0-a0/2"
   ]
  },
  {
   "cell_type": "code",
   "execution_count": null,
   "metadata": {},
   "outputs": [],
   "source": []
  },
  {
   "cell_type": "code",
   "execution_count": 13,
   "metadata": {},
   "outputs": [],
   "source": [
    "# Ejemplo 3\n",
    "\n",
    "def SombreroMexicano(xlim, tlim, utilez, NoHomog=[0, 0], ZipName='SimulacionData', info=False,\n",
    "           user_action=None):\n",
    "    \"\"\"\n",
    "    1 + 1 Klein-Gordon sistema \n",
    "    \n",
    "    d^2u/dt^2 = d^2u/dx^2 - V'(u)\n",
    "    \n",
    "    con un potencial tipo sombrero mexicano: V = lam*(u^2-v^2)/4, con v^2=m^2/lam.\n",
    "    \n",
    "    Condiciones iniciales:\n",
    "    u(t=0, x) = lam*v*np.tanh(m*x/(np.sqrt(2*(1-v0**2))))\n",
    "    du/dt(t=0, x) = (-lam*m*v*v0/np.sqrt(2*(1-v0**2)))/np.cosh(m*x/(np.sqrt(2*(1-v0**2))))**2\n",
    "    \n",
    "    Condiciones a la frontera:\n",
    "    u(t, xmin) = -v\n",
    "    u(t, xmax) = v\n",
    "    \n",
    "    \n",
    "    In:\n",
    "    xlim -> [xmin, xmax] limites espaciales\n",
    "    tlim -> [tmin, tmax] limites temporales\n",
    "    utilez -> [Nx, v, v0, lam, m , C]\n",
    "            Nx -> numero de puntos de la malla espacial\n",
    "                  la discretización temporal se construye a partir de dx y C usando dt = C*(xmax/Nx)\n",
    "            v, v0, m -> parámetros del modelo. Nota: -1 < v0 < 1\n",
    "            lam -> +1 o -1\n",
    "    \n",
    "    NoHomog -> [u(t, xmin), u(t, xmax)] condiciones a la frontera\n",
    "    ZipName -> nombre del archivo con los datos de la simulación\n",
    "    info -> True o False Imprime algunos datos\n",
    "    \n",
    "    Out:\n",
    "    u, xi, ti, cpu_time\n",
    "    \"\"\"\n",
    "\n",
    "    xmin, xmax = xlim\n",
    "    tmin, tmax = tlim\n",
    "    Nx, v, v0, lam, m, C = utilez\n",
    "    \n",
    "    dt = C*(xmax/Nx)\n",
    "    dx = dt/float(C)\n",
    "\n",
    "    def kinProf(x, lam, v, v0, m):\n",
    "        return lam*v*np.tanh(m*x/(np.sqrt(2*(1-v0**2))))\n",
    "    \n",
    "    def dkinProf(x, lam, v, v0, m):\n",
    "        return (-lam*m*v*v0/np.sqrt(2*(1-v0**2)))/np.cosh(m*x/(np.sqrt(2*(1-v0**2))))**2\n",
    "\n",
    "    def u0x(x):\n",
    "        uxi0 = kinProf(x, lam, v, v0, m)\n",
    "        return uxi0\n",
    "    \n",
    "    def ut(x):\n",
    "        duxi0 = dkinProf(x, lam, v, v0, m)\n",
    "        return duxi0\n",
    "        \n",
    "    dVx = lambda u: lam*(u**2-v**2)*u\n",
    "    \n",
    "    u, xi, ti, cpu_time = mod.solver(dt=dt, dx=dx, xmin=xmin, xmax=xmax, tmin=tmin, tmax=tmax,\n",
    "                                     ux=u0x, dux=ut, dVx=dVx, NoHomog=NoHomog, ZipName=ZipName,\n",
    "                                     info=info, user_action=user_action)\n",
    "    \n",
    "    return u, xi, ti, cpu_time"
   ]
  },
  {
   "cell_type": "code",
   "execution_count": 18,
   "metadata": {},
   "outputs": [],
   "source": [
    "# Implementación\n",
    "x0, xmax = -10, 10\n",
    "xlim = [x0, xmax]\n",
    "\n",
    "tmin, tmax = 0, 10\n",
    "tlim = [tmin, tmax]\n",
    "\n",
    "v = 1\n",
    "m = 1\n",
    "lam = 1\n",
    "v0 = 0.9\n",
    "Nx = 500\n",
    "C = 1\n",
    "\n",
    "utilez = [Nx, v, v0, lam, m, C]\n",
    "nameZip = 'SimulacionData3'\n",
    "NoHomog = [-v, v]\n",
    "\n",
    "u, xi, ti, cpu_time = SombreroMexicano(xlim, tlim, utilez, NoHomog=NoHomog, ZipName=nameZip, info=False,\n",
    "           user_action=None)"
   ]
  },
  {
   "cell_type": "code",
   "execution_count": 19,
   "metadata": {},
   "outputs": [
    {
     "name": "stderr",
     "output_type": "stream",
     "text": [
      "/var/folders/mf/vfyq6zyn4l35gfd2kgq4k2q00000gn/T/ipykernel_48490/4049852698.py:3: UserWarning: cmr10 font should ideally be used with mathtext, set axes.formatter.use_mathtext to True\n",
      "  figData = plt.subplots(nrows=1, ncols=1, figsize=(5, 4), sharex=False, sharey=False,\n"
     ]
    },
    {
     "data": {
      "image/png": "[encoded data removed]",
      "text/plain": [
       "<Figure size 500x400 with 1 Axes>"
      ]
     },
     "metadata": {},
     "output_type": "display_data"
    }
   ],
   "source": [
    "# Creando video\n",
    "address = 'Data/SimulacionData3.npz'\n",
    "figData = plt.subplots(nrows=1, ncols=1, figsize=(5, 4), sharex=False, sharey=False,\n",
    "                       gridspec_kw=dict(hspace=0.0, wspace=.13))\n",
    "\n",
    "fu = lambda t, x: lam*v*np.tanh(m*(x-v0*t)/np.sqrt(1-v0**2)/np.sqrt(2))  # solución analítica\n",
    "dvideo = mod.Visualization(address, figData, solAnalit=fu)\n",
    "\n",
    "n0 = 0\n",
    "dataname = '.data'\n",
    "nameV = 'soliton'\n",
    "xmin, xmax, ls, lw, color = xi[0], xi[-1], '-', 1, '#f0784d'\n",
    "struc = [xmin, xmax, ls, lw, color]\n",
    "\n",
    "dvideo.video(n0, dataname, struc, nameV, show=True, ylim=[-1.25, 1.25])"
   ]
  },
  {
   "cell_type": "code",
   "execution_count": null,
   "metadata": {},
   "outputs": [],
   "source": []
  }
 ],
 "metadata": {
  "kernelspec": {
   "display_name": "base",
   "language": "python",
   "name": "python3"
  },
  "language_info": {
   "codemirror_mode": {
    "name": "ipython",
    "version": 3
   },
   "file_extension": ".py",
   "mimetype": "text/x-python",
   "name": "python",
   "nbconvert_exporter": "python",
   "pygments_lexer": "ipython3",
   "version": "3.11.7"
  }
 },
 "nbformat": 4,
 "nbformat_minor": 2
}
