{
 "cells": [
  {
   "cell_type": "code",
   "execution_count": 1,
   "metadata": {},
   "outputs": [],
   "source": [
    "%load_ext autoreload\n",
    "%autoreload 2"
   ]
  },
  {
   "cell_type": "code",
   "execution_count": 2,
   "metadata": {},
   "outputs": [],
   "source": [
    "import numpy as np\n",
    "import time\n",
    "import matplotlib.pyplot as plt\n",
    "\n",
    "import Module as mod"
   ]
  },
  {
   "cell_type": "code",
   "execution_count": 3,
   "metadata": {},
   "outputs": [],
   "source": [
    "import plt_conf as conf\n",
    "conf.general()  # cargando configuración general"
   ]
  },
  {
   "cell_type": "markdown",
   "metadata": {},
   "source": [
    "A continuación veamos como resolver numéricamente (usando diferencias finitas) la ecuación de Klein-Gordon en 1+1 dimensión \n",
    "$$\n",
    "u_{tt} = u_{xx} + V'(u) + f(x, t) \\tag{A}\n",
    "$$"
   ]
  },
  {
   "cell_type": "markdown",
   "metadata": {},
   "source": [
    "### Discretizando el dominio\n",
    "\n",
    "Para la resolución del problema tenemos que discretizar nuestro dominio temporal por ejemplo $[t_{min}, t_{max}]$ y espacial $[x_{min}, x_{max}]$, es decir:\n",
    "$$\n",
    "t_{min}=t_0<t_1< t_2< \\dots < t_{N_t-1} < t_{N_t}=t_{max}, \\qquad x_{min}=x_0<x_1< x_2< \\dots < x_{N_x-1} < t_{N_x}=x_{max},\n",
    "$$ \n",
    "\n",
    "lo que nos lleva a construir una *malla* bidimensional correspondiente al plano $x, t$, cuyas cordenadas serían $(x_i, t_n)$, con $i=0,\\dots, N_x$ y $n=0,\\dots, N_t$.\n",
    "\n",
    "\n",
    "**IMPLEMENTACION:** Para la implementación es recomendable definir: \n",
    "$$\n",
    "x_i = x_0 + i\\triangle x, \\quad t_n = t_0 + n \\triangle t\n",
    "$$\n",
    "\n",
    "donde $\\triangle x, \\triangle t$ representan el ancho de las mallas espaciales y temporales respectivamente."
   ]
  },
  {
   "cell_type": "markdown",
   "metadata": {},
   "source": [
    "### Discretizando la solución\n",
    "\n",
    "Tendremos que la solución $u(x, t)$ estará discretizada, es decir, evaluada en la malla $2D$. Por simplicidad es usual introducir la notación $u_{i}^{n}$ para indicar la solución aproximada en el punto $(x_i, t_n)$."
   ]
  },
  {
   "cell_type": "markdown",
   "metadata": {},
   "source": [
    "### Discretizando la ecuación diferencial\n",
    "\n",
    "Antes de proceder a nuestro problema de interés, consideremos discretizar el ecuación diferencial \n",
    "\n",
    "$$\n",
    "\\frac{\\partial^2 u}{\\partial t^2}=\\frac{\\partial^2 u}{\\partial x^2},\n",
    "$$\n",
    "\n",
    "con condiciones de fronteras e iniciales:\n",
    "\\begin{align}\n",
    "u(x, 0)& = u_0(x), \\qquad x\\in [0, L],\\\\\n",
    "u_t(x, 0)& = 0, \\qquad x\\in [0, L],\\\\\n",
    "u(0, t)&=0, \\qquad t>0,\\\\\n",
    "u(L, t)&=0, \\qquad t>0.\n",
    "\\end{align}\n",
    "\n",
    "Para ello remplazaremos la segunda derivada por su aproximación de segundo orden de la diferencia central:\n",
    "$$\n",
    "\\frac{\\partial^2}{\\partial t^2}u(x_i, t_n)\\approx \\frac{u_{i}^{n+1}-2u_{i}^{n}+u_{i}^{n-1}}{\\triangle t^2}=[D_tD_t u]^{n}_{i}.\n",
    "$$\n",
    "\n",
    "Finalmente tendremos que:\n",
    "\\begin{align}\n",
    "\\frac{u_{i}^{n+1}-2u_{i}^{n}+u_{i}^{n-1}}{\\triangle t^2}&= \\frac{u_{i+1}^{n}-2u_{i}^{n}+u_{i-1}^{n}}{\\triangle x^2}.\n",
    "\\end{align}\n",
    "\n",
    "Que abreviado se escribiría como:\n",
    "$$\n",
    "[D_tD_t u = D_xD_x u]^{n}_{i}.\n",
    "$$\n",
    "\n",
    "Ahora nuestro objetivo es encontrar $u_{i}^{n+1}$, es decir evolucionar en el tiempo toda la malla espacial, para ello debemos despejar este término en la versión discreta de la ecuación diferencial, quedando \n",
    "$$\n",
    "u_{i}^{n+1} =  -u_{i}^{n-1}+2u_{i}^{n}+C^2(u_{i+1}^{n}-2u_{i}^{n}+u_{i-1}^{n}),\n",
    "$$\n",
    "\n",
    "donde $C=\\frac{\\triangle t}{\\triangle x}$ y es conocido como el número de Courant. El cual no es más que el parámetro que discretiza la ecuación de onda."
   ]
  },
  {
   "cell_type": "markdown",
   "metadata": {},
   "source": [
    "Interpretemos nuestra discretización. Como se aprecia el valor de $u_i^{n+1}$ dependerá del valor de sus vecinos $u_{i\\pm 1}^{n}$ y $u_i^{n}$, $u_i^{n - 1}$ como se ilustra en la figura\n",
    "\n",
    "<img src=\"Imagenes/fig1.png\">"
   ]
  },
  {
   "cell_type": "markdown",
   "metadata": {},
   "source": [
    "NOTAN ALGO PROBLEMATICO? Necesitamos $u_i^{n - 1}$ !!!!!!!"
   ]
  },
  {
   "cell_type": "markdown",
   "metadata": {},
   "source": [
    "#### Condiciones de iniciales y de frontera\n",
    "\n",
    "De manera similar debemos discretizar nuestra condición inicial: $\\frac{\\partial}{\\partial t}u(x, 0)=0$. Para ello tomamos la aproximación para la primera derivada de la diferencia central:\n",
    "$$\n",
    "\\frac{\\partial}{\\partial t} u(x_i, t_0)\\approx \\frac{u_i^{1}-u_i^{-1}}{2\\triangle t}=[D_{2t}u]^{0}_{i}=0,\n",
    "$$\n",
    "de donde tendremos que $u_i^{-1}=u_i^{1}$. La otra condición inicial nos lleva a $u_{i}^{0}=u_0(x_i)$ para $i=0,\\dots, N_x$. De las condiciones de frontera tendremos que $u_{0}^{n}=u_{N_x}^{n}=0$ (extremos fijos)."
   ]
  },
  {
   "cell_type": "markdown",
   "metadata": {},
   "source": [
    "#### Primer paso de iteración (n=0)\n",
    "Veamos ahora como sería el primer paso de iteración en el tiempo $n=0$:\n",
    "$$\n",
    "u_{i}^{1} = -u_{i}^{-1}+2u_{i}^{0}+C^2(u_{i+1}^{0}-2u_{i}^{0}+u_{i-1}^{0}),\n",
    "$$\n",
    "\n",
    "Notan algo raro? Necesitamos computar $u_{i}^{-1}$.\n",
    "\n",
    "Usando la relación obtenida anteriormente ($u_i^{-1}=u_i^{1}$), podemos obtener la expresión para el primer paso de iteración:\n",
    "$$\n",
    "u_{i}^{1} = u_{i}^{0}+\\frac{C^2}{2}(u_{i+1}^{0}-2u_{i}^{0}+u_{i-1}^{0}).\n",
    "$$\n",
    "\n",
    "Esquemáticamente lo que tendriamos sería\n",
    "\n",
    "<img src=\"Imagenes/fig2.png\">"
   ]
  },
  {
   "cell_type": "code",
   "execution_count": null,
   "metadata": {},
   "outputs": [],
   "source": []
  },
  {
   "cell_type": "markdown",
   "metadata": {},
   "source": [
    "#### Nuestro Problema\n",
    "\n",
    "Como vimos, la ecuación de KG en $1+1$ dimensiones es (A):\n",
    "$$\n",
    "u_{tt} = u_{xx} + V'(u) + f(x, t).\n",
    "$$\n",
    "\n",
    "Asumiendo condiciones de fronteras e iniciales:\n",
    "\\begin{align}\n",
    "u(x, 0)& = u_0(x), \\qquad x\\in [x_{min}, x_{max}],\\\\\n",
    "u_t(x, 0)& = du_0(x), \\qquad x\\in [x_{min}, x_{max}],\\\\\n",
    "u(x_{min}, t)&=c_1, \\qquad t>0,\\\\\n",
    "u(x_{max}, t)&=c_2, \\qquad t>0.\n",
    "\\end{align}\n",
    "\n",
    "Usando la notación anteriormente vista tendremos que:\n",
    "$$\n",
    "[D_t D_t u = D_x D_x u + V'(u) +f]_i^{n}.\n",
    "$$\n",
    "\n",
    "Resolviendo para $u_i^{n+1}$ llegamos a:\n",
    "\\begin{align}\\tag{B}\n",
    "u^{n+1}_i = -u^{n-1}_i + 2u^n_i + C^2\n",
    "    (u^{n}_{i+1}-2u^{n}_{i} + u^{n}_{i-1}) + \\Delta t^2 (V'(u^{n}_{i}) + f^n_i).\n",
    "\\end{align}"
   ]
  },
  {
   "cell_type": "markdown",
   "metadata": {},
   "source": [
    "Similar al caso anterior, presentamos un *problema* al realizar el primer paso de iteración. Repitiendo el mismo proceso visto obtenemos la expresión para el primer paso de iteración en el tiempo, para ello discretizamos la condición inicial $u_t=du_0(x)$ en $t=0$,\n",
    "$$\n",
    "[D_{2t}u = du_0]^0_i\\quad\\Rightarrow\\quad u^{-1}_i = u^{1}_i - 2\\Delta t \\, du_{0i},\n",
    "$$\n",
    "\n",
    "Lo cual nos lleva a:\n",
    "\\begin{align}\\begin{aligned}\\tag{C}\n",
    "u^{1}_i = u^0_i + \\Delta t \\, du_{0i} + {\\frac{1}{2}} C^2 \\left(u^{0}_{i+1}-2u^{0}_{i} + u^{0}_{i-1}\\right) + \\frac{1}{2}\\Delta t^2 (V'(u^{0}_{i}) + f^0_i) {\\thinspace .}\\end{aligned}\n",
    "\\end{align}\n",
    "\n",
    "Expresión que utilizaremos para el primer paso de iteración."
   ]
  },
  {
   "cell_type": "code",
   "execution_count": null,
   "metadata": {},
   "outputs": [],
   "source": []
  },
  {
   "cell_type": "markdown",
   "metadata": {},
   "source": [
    "RESUMIENDO nuestro esquema de iteración:\n",
    "\n",
    "- Calculamos $u_i^{0}=u_0(x_i)$ para $i=0,\\dots, N_x$,\n",
    "\n",
    "- Calculamos $u_i^{1}$ mediante:\n",
    "$$\n",
    "u^{1}_i = u^0_i + \\Delta t \\, du_{0i} + {\\frac{1}{2}} C^2 \\left(u^{0}_{i+1}-2u^{0}_{i} + u^{0}_{i-1}\\right) + \\frac{1}{2}\\Delta t^2 (V'(u^{0}_{i}) + f^0_i) .\n",
    "$$\n",
    "- Fijamos los $u_i^{1}=$ para los puntos de las fronteras $x_{min}, x_{max}$ $i=0, N_x$ a sus valores ($c_1, c_2$) respectivamente. Recordar que esto es para todo $n=1,\\dots, N_t-1$.\n",
    "- Posterior a lo anterior, para cada paso de iteración temporal $n=1, 2,\\dots, N_t-1$ realizamos los siguientes pasos:\n",
    "    - Actualizamos $u_{i}^{n}$ con $u_{i}^{n+1}$\n",
    "    - Utilizamos la fórmula:\n",
    "    $$\n",
    "    u^{n+1}_i = -u^{n-1}_i + 2u^n_i + C^2\n",
    "    (u^{n}_{i+1}-2u^{n}_{i} + u^{n}_{i-1}) + \\Delta t^2 (V'(u^{n}_{i}) + f^n_i)\n",
    "    $$\n",
    "    \n",
    "    para todas las $i=1, \\dots, N_x-1$ de tal forma que obtenemos nuevamente $u_{i}^{n+1}$.\n",
    "    - Fijamos nuevamente los $u_i^{1}=$ para los puntos de las fronteras $x_{min}, x_{max}$ $i=0, N_x$ a sus valores ($c_1, c_2$) respectivamente.\n",
    "\n",
    "En resumen este algoritmo esencialmente consiste en recorrer mediante diferencias finitas toda la malla 2D."
   ]
  },
  {
   "cell_type": "code",
   "execution_count": null,
   "metadata": {},
   "outputs": [],
   "source": []
  },
  {
   "cell_type": "code",
   "execution_count": 4,
   "metadata": {},
   "outputs": [],
   "source": [
    "# EJEMPLOS\n",
    "\n",
    "# Ejemplo 1\n",
    "# Definiendo las condiciones de frontera u(0, t)=u(L,t)=0 \n",
    "# y tomando f=2(1+t)c^2 tendremos que una solución analítica de la forma: u(x, t) = x(L-x)(1+t/2)\n",
    "# Donde tendremos como condiciones iniciales u(x,0)=I(x)=x(L-x), u_t(x, 0)=V(x)=x(L-x)/2\n",
    "\n",
    "#  c, I(x), V(x), f(x,t), L, and T\n",
    "def test_quadratic(xlim, tmax, utilez, ZipName='SimulacionData'):\n",
    "    \"\"\"\n",
    "    Solución analítica: u(x,t)=x(L-x)(1+t/2)\n",
    "    \"\"\"\n",
    "    x0, xmax = xlim\n",
    "    Nx, c, C = utilez\n",
    "\n",
    "    dt = C*(xmax/Nx)/c\n",
    "\n",
    "    # solución exacta:\n",
    "    u_exact = lambda x, t, xmax: x*(xmax-x)*(1 + 0.5*t)\n",
    "\n",
    "    # fuente\n",
    "    f = lambda x, t: (2 + t)*c**2\n",
    "\n",
    "    # condicion de frontera\n",
    "    I = lambda x: u_exact(x, x0, xmax)\n",
    "    V = lambda x: 0.5*u_exact(x, 0, xmax)\n",
    "\n",
    "    # resolviendo\n",
    "    u, xi, ti, cpu_time = mod.solver(I, xmax, tmax, dt, C, c=c, f=f, V=V, ZipName=ZipName)\n",
    "    return u, xi, ti, cpu_time"
   ]
  },
  {
   "cell_type": "code",
   "execution_count": 5,
   "metadata": {},
   "outputs": [],
   "source": [
    "tmax = 18\n",
    "x0, xmax = 0, 2.5\n",
    "c = 1.5; C = 0.75; Nx = 60\n",
    "xlim = [x0, xmax]\n",
    "utilez = [Nx, c, C]\n",
    "nameZip = 'SimulacionData'\n",
    "u, xi, ti, cpu_time = test_quadratic(xlim, tmax, utilez, ZipName=nameZip)"
   ]
  },
  {
   "cell_type": "code",
   "execution_count": 6,
   "metadata": {},
   "outputs": [
    {
     "name": "stderr",
     "output_type": "stream",
     "text": [
      "/var/folders/mf/vfyq6zyn4l35gfd2kgq4k2q00000gn/T/ipykernel_99914/3479587132.py:2: UserWarning: cmr10 font should ideally be used with mathtext, set axes.formatter.use_mathtext to True\n",
      "  figData = plt.subplots(nrows=1, ncols=1, figsize=(5, 4), sharex=False, sharey=False, gridspec_kw=dict(hspace=0.0, wspace=.13))\n"
     ]
    },
    {
     "data": {
      "image/png": "[encoded data removed]",
      "text/plain": [
       "<Figure size 500x400 with 1 Axes>"
      ]
     },
     "metadata": {},
     "output_type": "display_data"
    }
   ],
   "source": [
    "address = 'Data/'+nameZip+'.npz'\n",
    "figData = plt.subplots(nrows=1, ncols=1, figsize=(5, 4), sharex=False, sharey=False, gridspec_kw=dict(hspace=0.0, wspace=.13))\n",
    "dvideo = mod.Visualization(address, figData)\n",
    "\n",
    "n0 = 0\n",
    "dataname = '.data'\n",
    "nameV = 'video_quadratic'\n",
    "xmin, xmax, ls, lw, color = xi[0], xi[-1], '-', 1, '#f0784d'\n",
    "struc = [xmin, xmax, ls, lw, color]\n",
    "\n",
    "Sol_exact = lambda x, t: x*(xmax-x)*(1 + 0.5*t)\n",
    "dvideo.video(n0, dataname, struc, nameV, solEx=Sol_exact, show=False)"
   ]
  },
  {
   "cell_type": "code",
   "execution_count": null,
   "metadata": {},
   "outputs": [],
   "source": []
  }
 ],
 "metadata": {
  "kernelspec": {
   "display_name": "base",
   "language": "python",
   "name": "python3"
  },
  "language_info": {
   "codemirror_mode": {
    "name": "ipython",
    "version": 3
   },
   "file_extension": ".py",
   "mimetype": "text/x-python",
   "name": "python",
   "nbconvert_exporter": "python",
   "pygments_lexer": "ipython3",
   "version": "3.11.7"
  }
 },
 "nbformat": 4,
 "nbformat_minor": 2
}
