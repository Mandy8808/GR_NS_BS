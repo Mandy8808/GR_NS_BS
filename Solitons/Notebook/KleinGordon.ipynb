{
 "cells": [
  {
   "cell_type": "code",
   "execution_count": 1,
   "metadata": {},
   "outputs": [],
   "source": [
    "%load_ext autoreload\n",
    "%autoreload 2"
   ]
  },
  {
   "cell_type": "code",
   "execution_count": 2,
   "metadata": {},
   "outputs": [],
   "source": [
    "import numpy as np\n",
    "import time\n",
    "import matplotlib.pyplot as plt\n",
    "\n",
    "import Module as mod"
   ]
  },
  {
   "cell_type": "code",
   "execution_count": 3,
   "metadata": {},
   "outputs": [],
   "source": [
    "import plt_conf as conf\n",
    "conf.general()  # cargando configuración general"
   ]
  },
  {
   "cell_type": "markdown",
   "metadata": {},
   "source": [
    "A continuación veamos como resolver numéricamente (usando diferencias finitas) la ecuación de Klein-Gordon en 1+1 dimensión \n",
    "$$\n",
    "u_{tt} = u_{xx} + V'(u) + f(x, t) \\tag{A}\n",
    "$$"
   ]
  },
  {
   "cell_type": "markdown",
   "metadata": {},
   "source": [
    "### Discretizando el dominio\n",
    "\n",
    "Para la resolución del problema tenemos que discretizar nuestro dominio temporal por ejemplo $[t_{min}, t_{max}]$ y espacial $[x_{min}, x_{max}]$, es decir:\n",
    "$$\n",
    "t_{min}=t_0<t_1< t_2< \\dots < t_{N_t-1} < t_{N_t}=t_{max}, \\qquad x_{min}=x_0<x_1< x_2< \\dots < x_{N_x-1} < t_{N_x}=x_{max},\n",
    "$$ \n",
    "\n",
    "lo que nos lleva a construir una *malla* bidimensional correspondiente al plano $x, t$, cuyas cordenadas serían $(x_i, t_n)$, con $i=0,\\dots, N_x$ y $n=0,\\dots, N_t$.\n",
    "\n",
    "\n",
    "**IMPLEMENTACION:** Para la implementación es recomendable definir: \n",
    "$$\n",
    "x_i = x_0 + i\\triangle x, \\quad t_n = t_0 + n \\triangle t\n",
    "$$\n",
    "\n",
    "donde $\\triangle x, \\triangle t$ representan el ancho de las mallas espaciales y temporales respectivamente."
   ]
  },
  {
   "cell_type": "markdown",
   "metadata": {},
   "source": [
    "### Discretizando la solución\n",
    "\n",
    "Tendremos que la solución $u(x, t)$ estará discretizada, es decir, evaluada en la malla $2D$. Por simplicidad es usual introducir la notación $u_{i}^{n}$ para indicar la solución aproximada en el punto $(x_i, t_n)$."
   ]
  },
  {
   "cell_type": "markdown",
   "metadata": {},
   "source": [
    "### Discretizando la ecuación diferencial\n",
    "\n",
    "Antes de proceder a nuestro problema de interés, consideremos discretizar el ecuación diferencial \n",
    "\n",
    "$$\n",
    "\\frac{\\partial^2 u}{\\partial t^2}=\\frac{\\partial^2 u}{\\partial x^2},\n",
    "$$\n",
    "\n",
    "con condiciones de fronteras e iniciales:\n",
    "\\begin{align}\n",
    "u(x, 0)& = u_0(x), \\qquad x\\in [0, L],\\\\\n",
    "u_t(x, 0)& = 0, \\qquad x\\in [0, L],\\\\\n",
    "u(0, t)&=0, \\qquad t>0,\\\\\n",
    "u(L, t)&=0, \\qquad t>0.\n",
    "\\end{align}\n",
    "\n",
    "Para ello remplazaremos la segunda derivada por su aproximación de segundo orden de la diferencia central:\n",
    "$$\n",
    "\\frac{\\partial^2}{\\partial t^2}u(x_i, t_n)\\approx \\frac{u_{i}^{n+1}-2u_{i}^{n}+u_{i}^{n-1}}{\\triangle t^2}=[D_tD_t u]^{n}_{i}.\n",
    "$$\n",
    "\n",
    "Finalmente tendremos que:\n",
    "\\begin{align}\n",
    "\\frac{u_{i}^{n+1}-2u_{i}^{n}+u_{i}^{n-1}}{\\triangle t^2}&= \\frac{u_{i+1}^{n}-2u_{i}^{n}+u_{i-1}^{n}}{\\triangle x^2}.\n",
    "\\end{align}\n",
    "\n",
    "Que abreviado se escribiría como:\n",
    "$$\n",
    "[D_tD_t u = D_xD_x u]^{n}_{i}.\n",
    "$$\n",
    "\n",
    "Ahora nuestro objetivo es encontrar $u_{i}^{n+1}$, es decir evolucionar en el tiempo toda la malla espacial, para ello debemos despejar este término en la versión discreta de la ecuación diferencial, quedando \n",
    "$$\n",
    "u_{i}^{n+1} =  -u_{i}^{n-1}+2u_{i}^{n}+C^2(u_{i+1}^{n}-2u_{i}^{n}+u_{i-1}^{n}),\n",
    "$$\n",
    "\n",
    "donde $C=\\frac{\\triangle t}{\\triangle x}$ y es conocido como el número de Courant. El cual no es más que el parámetro que discretiza la ecuación de onda."
   ]
  },
  {
   "cell_type": "markdown",
   "metadata": {},
   "source": [
    "Interpretemos nuestra discretización. Como se aprecia el valor de $u_i^{n+1}$ dependerá del valor de sus vecinos $u_{i\\pm 1}^{n}$ y $u_i^{n}$, $u_i^{n - 1}$ como se ilustra en la figura\n",
    "\n",
    "<img src=\"Imagenes/fig1.png\">"
   ]
  },
  {
   "cell_type": "markdown",
   "metadata": {},
   "source": [
    "NOTAN ALGO PROBLEMATICO? Necesitamos $u_i^{n - 1}$ !!!!!!!"
   ]
  },
  {
   "cell_type": "markdown",
   "metadata": {},
   "source": [
    "#### Condiciones de iniciales y de frontera\n",
    "\n",
    "De manera similar debemos discretizar nuestra condición inicial: $\\frac{\\partial}{\\partial t}u(x, 0)=0$. Para ello tomamos la aproximación para la primera derivada de la diferencia central:\n",
    "$$\n",
    "\\frac{\\partial}{\\partial t} u(x_i, t_0)\\approx \\frac{u_i^{1}-u_i^{-1}}{2\\triangle t}=[D_{2t}u]^{0}_{i}=0,\n",
    "$$\n",
    "de donde tendremos que $u_i^{-1}=u_i^{1}$. La otra condición inicial nos lleva a $u_{i}^{0}=u_0(x_i)$ para $i=0,\\dots, N_x$. De las condiciones de frontera tendremos que $u_{0}^{n}=u_{N_x}^{n}=0$ (extremos fijos)."
   ]
  },
  {
   "cell_type": "markdown",
   "metadata": {},
   "source": [
    "#### Primer paso de iteración (n=0)\n",
    "Veamos ahora como sería el primer paso de iteración en el tiempo $n=0$:\n",
    "$$\n",
    "u_{i}^{1} = -u_{i}^{-1}+2u_{i}^{0}+C^2(u_{i+1}^{0}-2u_{i}^{0}+u_{i-1}^{0}),\n",
    "$$\n",
    "\n",
    "Notan algo raro? Necesitamos computar $u_{i}^{-1}$.\n",
    "\n",
    "Usando la relación obtenida anteriormente ($u_i^{-1}=u_i^{1}$), podemos obtener la expresión para el primer paso de iteración:\n",
    "$$\n",
    "u_{i}^{1} = u_{i}^{0}+\\frac{C^2}{2}(u_{i+1}^{0}-2u_{i}^{0}+u_{i-1}^{0}).\n",
    "$$\n",
    "\n",
    "Esquemáticamente lo que tendriamos sería\n",
    "\n",
    "<img src=\"Imagenes/fig2.png\">"
   ]
  },
  {
   "cell_type": "code",
   "execution_count": null,
   "metadata": {},
   "outputs": [],
   "source": []
  },
  {
   "cell_type": "markdown",
   "metadata": {},
   "source": [
    "#### Nuestro Problema\n",
    "\n",
    "Como vimos, la ecuación de KG en $1+1$ dimensiones es (A):\n",
    "$$\n",
    "u_{tt} = u_{xx} + V'(u) + f(x, t).\n",
    "$$\n",
    "\n",
    "Asumiendo condiciones de fronteras e iniciales:\n",
    "\\begin{align}\n",
    "u(x, 0)& = u_0(x), \\qquad x\\in [x_{min}, x_{max}],\\\\\n",
    "u_t(x, 0)& = du_0(x), \\qquad x\\in [x_{min}, x_{max}],\\\\\n",
    "u(x_{min}, t)&=c_1, \\qquad t>0,\\\\\n",
    "u(x_{max}, t)&=c_2, \\qquad t>0.\n",
    "\\end{align}\n",
    "\n",
    "Usando la notación anteriormente vista tendremos que:\n",
    "$$\n",
    "[D_t D_t u = D_x D_x u + V'(u) +f]_i^{n}.\n",
    "$$\n",
    "\n",
    "Resolviendo para $u_i^{n+1}$ llegamos a:\n",
    "\\begin{align}\\tag{B}\n",
    "u^{n+1}_i = -u^{n-1}_i + 2u^n_i + C^2\n",
    "    (u^{n}_{i+1}-2u^{n}_{i} + u^{n}_{i-1}) + \\Delta t^2 (V'(u^{n}_{i}) + f^n_i).\n",
    "\\end{align}"
   ]
  },
  {
   "cell_type": "markdown",
   "metadata": {},
   "source": [
    "Similar al caso anterior, presentamos un *problema* al realizar el primer paso de iteración. Repitiendo el mismo proceso visto obtenemos la expresión para el primer paso de iteración en el tiempo, para ello discretizamos la condición inicial $u_t=du_0(x)$ en $t=0$,\n",
    "$$\n",
    "[D_{2t}u = du_0]^0_i\\quad\\Rightarrow\\quad u^{-1}_i = u^{1}_i - 2\\Delta t \\, du_{0i},\n",
    "$$\n",
    "\n",
    "Lo cual nos lleva a:\n",
    "\\begin{align}\\begin{aligned}\\tag{C}\n",
    "u^{1}_i = u^0_i + \\Delta t \\, du_{0i} + {\\frac{1}{2}} C^2 \\left(u^{0}_{i+1}-2u^{0}_{i} + u^{0}_{i-1}\\right) + \\frac{1}{2}\\Delta t^2 (V'(u^{0}_{i}) + f^0_i) {\\thinspace .}\\end{aligned}\n",
    "\\end{align}\n",
    "\n",
    "Expresión que utilizaremos para el primer paso de iteración."
   ]
  },
  {
   "cell_type": "code",
   "execution_count": null,
   "metadata": {},
   "outputs": [],
   "source": []
  },
  {
   "cell_type": "markdown",
   "metadata": {},
   "source": [
    "RESUMIENDO nuestro esquema de iteración:\n",
    "\n",
    "- Calculamos $u_i^{0}=u_0(x_i)$ para $i=0,\\dots, N_x$,\n",
    "\n",
    "- Calculamos $u_i^{1}$ mediante:\n",
    "$$\n",
    "u^{1}_i = u^0_i + \\Delta t \\, du_{0i} + {\\frac{1}{2}} C^2 \\left(u^{0}_{i+1}-2u^{0}_{i} + u^{0}_{i-1}\\right) + \\frac{1}{2}\\Delta t^2 (V'(u^{0}_{i}) + f^0_i) .\n",
    "$$\n",
    "- Fijamos los $u_i^{1}=$ para los puntos de las fronteras $x_{min}, x_{max}$ $i=0, N_x$ a sus valores ($c_1, c_2$) respectivamente. Recordar que esto es para todo $n=1,\\dots, N_t-1$.\n",
    "- Posterior a lo anterior, para cada paso de iteración temporal $n=1, 2,\\dots, N_t-1$ realizamos los siguientes pasos:\n",
    "    - Actualizamos $u_{i}^{n}$ con $u_{i}^{n+1}$\n",
    "    - Utilizamos la fórmula:\n",
    "    $$\n",
    "    u^{n+1}_i = -u^{n-1}_i + 2u^n_i + C^2\n",
    "    (u^{n}_{i+1}-2u^{n}_{i} + u^{n}_{i-1}) + \\Delta t^2 (V'(u^{n}_{i}) + f^n_i)\n",
    "    $$\n",
    "    \n",
    "    para todas las $i=1, \\dots, N_x-1$ de tal forma que obtenemos nuevamente $u_{i}^{n+1}$.\n",
    "    - Fijamos nuevamente los $u_i^{1}=$ para los puntos de las fronteras $x_{min}, x_{max}$ $i=0, N_x$ a sus valores ($c_1, c_2$) respectivamente.\n",
    "\n",
    "En resumen este algoritmo esencialmente consiste en recorrer mediante diferencias finitas toda la malla 2D."
   ]
  },
  {
   "cell_type": "code",
   "execution_count": null,
   "metadata": {},
   "outputs": [],
   "source": []
  },
  {
   "cell_type": "code",
   "execution_count": 4,
   "metadata": {},
   "outputs": [],
   "source": [
    "# EJEMPLOS\n",
    "\n",
    "# Ejemplo 1\n",
    "# Definiendo las condiciones de frontera u(0, t)=u(L,t)=0 \n",
    "# y tomando f=2(1+t)c^2 tendremos que una solución analítica de la forma: u(x, t) = x(L-x)(1+t/2)\n",
    "# Donde tendremos como condiciones iniciales u(x,0)=I(x)=x(L-x), u_t(x, 0)=V(x)=x(L-x)/2\n",
    "\n",
    "#  c, I(x), V(x), f(x,t), L, and T\n",
    "def test_quadratic(xlim, tmax, utilez, ZipName='SimulacionData'):\n",
    "    \"\"\"\n",
    "    Solución analítica: u(x,t)=x(L-x)(1+t/2)\n",
    "    \"\"\"\n",
    "    x0, xmax = xlim\n",
    "    Nx, c, C = utilez\n",
    "\n",
    "    dt = C*(xmax/Nx)/c\n",
    "\n",
    "    # solución exacta:\n",
    "    u_exact = lambda x, t, xmax: x*(xmax-x)*(1 + 0.5*t)\n",
    "\n",
    "    # fuente\n",
    "    f = lambda x, t: (2 + t)*c**2\n",
    "\n",
    "    # condicion de frontera\n",
    "    I = lambda x: u_exact(x, x0, xmax)\n",
    "    V = lambda x: 0.5*u_exact(x, 0, xmax)\n",
    "\n",
    "    # resolviendo\n",
    "    u, xi, ti, cpu_time = mod.solver(I, xmax, tmax, dt, C, c=c, f=f, V=V, ZipName=ZipName)\n",
    "    return u, xi, ti, cpu_time"
   ]
  },
  {
   "cell_type": "code",
   "execution_count": 5,
   "metadata": {},
   "outputs": [],
   "source": [
    "tmax = 18\n",
    "x0, xmax = 0, 2.5\n",
    "c = 1.5; C = 0.75; Nx = 60\n",
    "xlim = [x0, xmax]\n",
    "utilez = [Nx, c, C]\n",
    "nameZip = 'SimulacionData'\n",
    "u, xi, ti, cpu_time = test_quadratic(xlim, tmax, utilez, ZipName=nameZip)"
   ]
  },
  {
   "cell_type": "code",
   "execution_count": 6,
   "metadata": {},
   "outputs": [
    {
     "name": "stderr",
     "output_type": "stream",
     "text": [
      "/var/folders/mf/vfyq6zyn4l35gfd2kgq4k2q00000gn/T/ipykernel_99914/3479587132.py:2: UserWarning: cmr10 font should ideally be used with mathtext, set axes.formatter.use_mathtext to True\n",
      "  figData = plt.subplots(nrows=1, ncols=1, figsize=(5, 4), sharex=False, sharey=False, gridspec_kw=dict(hspace=0.0, wspace=.13))\n"
     ]
    },
    {
     "data": {
      "image/png": "[encoded data removed]",
      "text/plain": [
       "<Figure size 500x400 with 1 Axes>"
      ]
     },
     "metadata": {},
     "output_type": "display_data"
    }
   ],
   "source": [
    "address = 'Data/'+nameZip+'.npz'\n",
    "figData = plt.subplots(nrows=1, ncols=1, figsize=(5, 4), sharex=False, sharey=False, gridspec_kw=dict(hspace=0.0, wspace=.13))\n",
    "dvideo = mod.Visualization(address, figData)\n",
    "\n",
    "n0 = 0\n",
    "dataname = '.data'\n",
    "nameV = 'video_quadratic'\n",
    "xmin, xmax, ls, lw, color = xi[0], xi[-1], '-', 1, '#f0784d'\n",
    "struc = [xmin, xmax, ls, lw, color]\n",
    "\n",
    "Sol_exact = lambda x, t: x*(xmax-x)*(1 + 0.5*t)\n",
    "dvideo.video(n0, dataname, struc, nameV, solEx=Sol_exact, show=False)"
   ]
  },
  {
   "cell_type": "code",
   "execution_count": null,
   "metadata": {},
   "outputs": [],
   "source": []
  },
  {
   "cell_type": "markdown",
   "metadata": {},
   "source": [
    "### Simulación de ondas en una cuerda\n",
    "\n",
    "Consideremos el caso de ondas unidimensionales en una cuerda, por ejemplo, en una guitarra. Supongamos que la cuerda en estado deformado coincide con el intervalo $[0, L]$ a lo largo del eje $x$, y $u(x, t)$ representa el desplazamiento en el tiempo $t$ en la dirección $x$ con una velocidad $c$ desde un punto inicialmente $x_0$. La función de desplazamiento $u$ está determinada por el modelo matemático (ecuación de onda uni-dimensional)\n",
    "$$\n",
    "\\frac{\\partial^2 u}{\\partial t^2}=c^2\\frac{\\partial^2 u}{\\partial x^2}, \\qquad x\\in(0, L), t\\in(0, T]\n",
    "$$\n",
    "\n",
    "Como la ecuación diferencial es de segundo orden, tanto en el tiempo, como en el espacio necesitamos dos condiciones iniciales las cuales especifícan la forma de la cuerda y la velocidad inicial de la misma:\n",
    "$$\n",
    "u(x, 0)=I(x), \\quad \\frac{\\partial}{\\partial t}u(x, 0)=0, \\qquad x\\in[0, L],\n",
    "$$\n",
    "y dos condiciones de fronteras las cuales definiremos acorde a una cuerda con los extremos fijos (el desplazamiento de $u$ es cero):\n",
    "$$\n",
    "u(0, t)=0, \\quad u(L, t)=0, \\qquad t\\in(0, T].\n",
    "$$\n"
   ]
  },
  {
   "cell_type": "code",
   "execution_count": 11,
   "metadata": {},
   "outputs": [],
   "source": [
    "# Ejemplo 2\n",
    "def guitar(xlim, utilez, mu, sig, m=0, C=1, ZipName='SimulacionData'):\n",
    "    \"\"\"Gauss wave (pulled guitar string).\"\"\"\n",
    "\n",
    "    x0, xmax = xlim\n",
    "    Nx, a0, wavelength, freq, num_periods = utilez\n",
    "    \n",
    "    c = freq*wavelength\n",
    "    omega = 2*np.pi*freq\n",
    "    tmax = 2*np.pi/omega*num_periods\n",
    "    dt = C*(xmax/Nx)/c\n",
    "\n",
    "    # fuente\n",
    "    f = lambda x, t: 0\n",
    "\n",
    "    def gaussian(x, mu, sig, a0):\n",
    "        return a0/(np.sqrt(2.*np.pi)*sig)*np.exp(-np.power((x - mu)/sig, 2.)/2)\n",
    "\n",
    "    def I(x):\n",
    "        Ixi = gaussian(x, mu, sig, a0)\n",
    "        return Ixi\n",
    "\n",
    "    u, xi, ti, cpu_time = mod.solver(I, xmax, tmax, dt, C, m=m, x0=x0, c=c, f=f, ZipName=ZipName)   \n",
    "    return u, xi, ti, cpu_time"
   ]
  },
  {
   "cell_type": "code",
   "execution_count": 25,
   "metadata": {},
   "outputs": [],
   "source": [
    "a0, mu, sig = 0.01, 0, 0.5\n",
    "x0, xmax = -15, 15\n",
    "num_periods = 2\n",
    "freq = 440\n",
    "m = 0\n",
    "wavelength = 2*xmax\n",
    "c = 1.5;  Nx = 800\n",
    "xlim = [x0, xmax]\n",
    "utilez = [Nx, a0, wavelength, freq, num_periods]\n",
    "nameZip = 'SimulacionData2'\n",
    "\n",
    "u, xi, ti, cpu_time = guitar(xlim, utilez, mu, sig, m=m, C=1, ZipName=nameZip)"
   ]
  },
  {
   "cell_type": "code",
   "execution_count": 26,
   "metadata": {},
   "outputs": [
    {
     "name": "stderr",
     "output_type": "stream",
     "text": [
      "/var/folders/mf/vfyq6zyn4l35gfd2kgq4k2q00000gn/T/ipykernel_99914/61304223.py:2: UserWarning: cmr10 font should ideally be used with mathtext, set axes.formatter.use_mathtext to True\n",
      "  figData = plt.subplots(nrows=1, ncols=1, figsize=(5, 4), sharex=False, sharey=False,\n"
     ]
    },
    {
     "data": {
      "image/png": "[encoded data removed]",
      "text/plain": [
       "<Figure size 500x400 with 1 Axes>"
      ]
     },
     "metadata": {},
     "output_type": "display_data"
    }
   ],
   "source": [
    "address = 'Data/SimulacionData2.npz'\n",
    "figData = plt.subplots(nrows=1, ncols=1, figsize=(5, 4), sharex=False, sharey=False,\n",
    "                       gridspec_kw=dict(hspace=0.0, wspace=.13))\n",
    "dvideo = mod.Visualization(address, figData)\n",
    "\n",
    "n0 = 0\n",
    "dataname = '.data'\n",
    "nameV = 'video_guitar2'\n",
    "xmin, xmax, ls, lw, color = xi[0], xi[-1], '-', 1, '#f0784d'\n",
    "struc = [xmin, xmax, ls, lw, color]\n",
    "\n",
    "dvideo.video(n0, dataname, struc, nameV, show=True, ylim=[-.01, .01])"
   ]
  },
  {
   "cell_type": "code",
   "execution_count": null,
   "metadata": {},
   "outputs": [],
   "source": []
  },
  {
   "cell_type": "code",
   "execution_count": 27,
   "metadata": {},
   "outputs": [],
   "source": [
    "# Ejemplo 2\n",
    "def soliton(xlim, utilez, mu, sig, m=0, C=1, ZipName='SimulacionData'):\n",
    "    \"\"\"Gauss wave (pulled guitar string).\"\"\"\n",
    "\n",
    "    x0, xmax = xlim\n",
    "    Nx, a0, tmax = utilez\n",
    "    \n",
    "    c = 1\n",
    "    dt = C*(xmax/Nx)/c\n",
    "\n",
    "    # fuente\n",
    "    f = lambda x, t: 0\n",
    "\n",
    "    def gaussian(x, mu, sig, a0):\n",
    "        return a0/(np.sqrt(2.*np.pi)*sig)*np.exp(-np.power((x - mu)/sig, 2.)/2)\n",
    "\n",
    "    def I(x):\n",
    "        Ixi = gaussian(x, mu, sig, a0)\n",
    "        return Ixi\n",
    "\n",
    "    u, xi, ti, cpu_time = mod.solver(I, xmax, tmax, dt, C, m=m, x0=x0, c=c, f=f, ZipName=ZipName)   \n",
    "    return u, xi, ti, cpu_time"
   ]
  },
  {
   "cell_type": "code",
   "execution_count": 29,
   "metadata": {},
   "outputs": [],
   "source": [
    "a0, mu, sig = 0.01, 0, 0.5\n",
    "x0, xmax = -15, 15\n",
    "tmax = 20\n",
    "m = 1\n",
    "Nx = 800\n",
    "xlim = [x0, xmax]\n",
    "utilez = [Nx, a0, tmax]\n",
    "nameZip = 'SimulacionData3'\n",
    "\n",
    "u, xi, ti, cpu_time = soliton(xlim, utilez, mu, sig, m=m, C=1, ZipName=nameZip)"
   ]
  },
  {
   "cell_type": "code",
   "execution_count": 31,
   "metadata": {},
   "outputs": [
    {
     "name": "stderr",
     "output_type": "stream",
     "text": [
      "/var/folders/mf/vfyq6zyn4l35gfd2kgq4k2q00000gn/T/ipykernel_99914/3331535696.py:2: UserWarning: cmr10 font should ideally be used with mathtext, set axes.formatter.use_mathtext to True\n",
      "  figData = plt.subplots(nrows=1, ncols=1, figsize=(5, 4), sharex=False, sharey=False,\n"
     ]
    },
    {
     "data": {
      "image/png": "[encoded data removed]",
      "text/plain": [
       "<Figure size 500x400 with 1 Axes>"
      ]
     },
     "metadata": {},
     "output_type": "display_data"
    },
    {
     "name": "stdout",
     "output_type": "stream",
     "text": [
      "Unexpected exception formatting exception. Falling back to standard exception\n"
     ]
    },
    {
     "name": "stderr",
     "output_type": "stream",
     "text": [
      "Traceback (most recent call last):\n",
      "  File \"/opt/anaconda3/lib/python3.11/site-packages/IPython/core/interactiveshell.py\", line 3553, in run_code\n",
      "    exec(code_obj, self.user_global_ns, self.user_ns)\n",
      "  File \"/var/folders/mf/vfyq6zyn4l35gfd2kgq4k2q00000gn/T/ipykernel_99914/3331535696.py\", line 12, in <module>\n",
      "    dvideo.video(n0, dataname, struc, nameV, show=True, ylim=[-.01, .01])\n",
      "  File \"/Users/armandoroqueestrada/Library/Mobile Documents/com~apple~CloudDocs/GitHub/GR_NS_BS/Solitons/Notebook/Module.py\", line 385, in video\n",
      "    anim.save(nameV+'.mp4', bitrate=bitrate, fps=fps, extra_args=extra_args)  # direc+nameV+\n",
      "    ^^^^^^^^^^^^^^^^^^^^^^^^^^^^^^^^^^^^^^^^^^^^^^^^^^^^^^^^^^^^^^^^^^^^^^^^\n",
      "  File \"/opt/anaconda3/lib/python3.11/site-packages/matplotlib/animation.py\", line 1105, in save\n",
      "    anim._draw_next_frame(d, blit=False)\n",
      "  File \"/opt/anaconda3/lib/python3.11/site-packages/matplotlib/animation.py\", line 1141, in _draw_next_frame\n",
      "    self._post_draw(framedata, blit)\n",
      "  File \"/opt/anaconda3/lib/python3.11/site-packages/matplotlib/animation.py\", line 1166, in _post_draw\n",
      "    self._fig.canvas.draw_idle()\n",
      "  File \"/opt/anaconda3/lib/python3.11/site-packages/matplotlib/backend_bases.py\", line 1893, in draw_idle\n",
      "    self.draw(*args, **kwargs)\n",
      "  File \"/opt/anaconda3/lib/python3.11/site-packages/matplotlib/backends/backend_agg.py\", line 388, in draw\n",
      "    self.figure.draw(self.renderer)\n",
      "  File \"/opt/anaconda3/lib/python3.11/site-packages/matplotlib/artist.py\", line 95, in draw_wrapper\n",
      "    result = draw(artist, renderer, *args, **kwargs)\n",
      "             ^^^^^^^^^^^^^^^^^^^^^^^^^^^^^^^^^^^^^^^\n",
      "  File \"/opt/anaconda3/lib/python3.11/site-packages/matplotlib/artist.py\", line 72, in draw_wrapper\n",
      "    return draw(artist, renderer)\n",
      "           ^^^^^^^^^^^^^^^^^^^^^^\n",
      "  File \"/opt/anaconda3/lib/python3.11/site-packages/matplotlib/figure.py\", line 3154, in draw\n",
      "    mimage._draw_list_compositing_images(\n",
      "  File \"/opt/anaconda3/lib/python3.11/site-packages/matplotlib/image.py\", line 132, in _draw_list_compositing_images\n",
      "    a.draw(renderer)\n",
      "  File \"/opt/anaconda3/lib/python3.11/site-packages/matplotlib/artist.py\", line 72, in draw_wrapper\n",
      "    return draw(artist, renderer)\n",
      "           ^^^^^^^^^^^^^^^^^^^^^^\n",
      "  File \"/opt/anaconda3/lib/python3.11/site-packages/matplotlib/axes/_base.py\", line 3070, in draw\n",
      "    mimage._draw_list_compositing_images(\n",
      "  File \"/opt/anaconda3/lib/python3.11/site-packages/matplotlib/image.py\", line 132, in _draw_list_compositing_images\n",
      "    a.draw(renderer)\n",
      "  File \"/opt/anaconda3/lib/python3.11/site-packages/matplotlib/artist.py\", line 72, in draw_wrapper\n",
      "    return draw(artist, renderer)\n",
      "           ^^^^^^^^^^^^^^^^^^^^^^\n",
      "  File \"/opt/anaconda3/lib/python3.11/site-packages/matplotlib/text.py\", line 793, in draw\n",
      "    textrenderer.draw_tex(gc, x, y, clean_line,\n",
      "  File \"/opt/anaconda3/lib/python3.11/site-packages/matplotlib/backends/backend_agg.py\", line 236, in draw_tex\n",
      "    Z = texmanager.get_grey(s, size, self.dpi)\n",
      "        ^^^^^^^^^^^^^^^^^^^^^^^^^^^^^^^^^^^^^^\n",
      "  File \"/opt/anaconda3/lib/python3.11/site-packages/matplotlib/texmanager.py\", line 336, in get_grey\n",
      "    pngfile = cls.make_png(tex, fontsize, dpi)\n",
      "              ^^^^^^^^^^^^^^^^^^^^^^^^^^^^^^^^\n",
      "  File \"/opt/anaconda3/lib/python3.11/site-packages/matplotlib/texmanager.py\", line 323, in make_png\n",
      "    cls._run_checked_subprocess(cmd, tex)\n",
      "  File \"/opt/anaconda3/lib/python3.11/site-packages/matplotlib/texmanager.py\", line 250, in _run_checked_subprocess\n",
      "    report = subprocess.check_output(\n",
      "             ^^^^^^^^^^^^^^^^^^^^^^^^\n",
      "  File \"/opt/anaconda3/lib/python3.11/subprocess.py\", line 466, in check_output\n",
      "    return run(*popenargs, stdout=PIPE, timeout=timeout, check=True,\n",
      "           ^^^^^^^^^^^^^^^^^^^^^^^^^^^^^^^^^^^^^^^^^^^^^^^^^^^^^^^^^\n",
      "  File \"/opt/anaconda3/lib/python3.11/subprocess.py\", line 550, in run\n",
      "    stdout, stderr = process.communicate(input, timeout=timeout)\n",
      "                     ^^^^^^^^^^^^^^^^^^^^^^^^^^^^^^^^^^^^^^^^^^^\n",
      "  File \"/opt/anaconda3/lib/python3.11/subprocess.py\", line 1196, in communicate\n",
      "    stdout = self.stdout.read()\n",
      "             ^^^^^^^^^^^^^^^^^^\n",
      "KeyboardInterrupt\n",
      "\n",
      "During handling of the above exception, another exception occurred:\n",
      "\n",
      "Traceback (most recent call last):\n",
      "  File \"/opt/anaconda3/lib/python3.11/site-packages/IPython/core/interactiveshell.py\", line 2144, in showtraceback\n",
      "    stb = self.InteractiveTB.structured_traceback(\n",
      "          ^^^^^^^^^^^^^^^^^^^^^^^^^^^^^^^^^^^^^^^^\n",
      "  File \"/opt/anaconda3/lib/python3.11/site-packages/IPython/core/ultratb.py\", line 1435, in structured_traceback\n",
      "    return FormattedTB.structured_traceback(\n",
      "           ^^^^^^^^^^^^^^^^^^^^^^^^^^^^^^^^^\n",
      "  File \"/opt/anaconda3/lib/python3.11/site-packages/IPython/core/ultratb.py\", line 1326, in structured_traceback\n",
      "    return VerboseTB.structured_traceback(\n",
      "           ^^^^^^^^^^^^^^^^^^^^^^^^^^^^^^^\n",
      "  File \"/opt/anaconda3/lib/python3.11/site-packages/IPython/core/ultratb.py\", line 1173, in structured_traceback\n",
      "    formatted_exception = self.format_exception_as_a_whole(etype, evalue, etb, number_of_lines_of_context,\n",
      "                          ^^^^^^^^^^^^^^^^^^^^^^^^^^^^^^^^^^^^^^^^^^^^^^^^^^^^^^^^^^^^^^^^^^^^^^^^^^^^^^^^\n",
      "  File \"/opt/anaconda3/lib/python3.11/site-packages/IPython/core/ultratb.py\", line 1088, in format_exception_as_a_whole\n",
      "    frames.append(self.format_record(record))\n",
      "                  ^^^^^^^^^^^^^^^^^^^^^^^^^^\n",
      "  File \"/opt/anaconda3/lib/python3.11/site-packages/IPython/core/ultratb.py\", line 970, in format_record\n",
      "    frame_info.lines, Colors, self.has_colors, lvals\n",
      "    ^^^^^^^^^^^^^^^^\n",
      "  File \"/opt/anaconda3/lib/python3.11/site-packages/IPython/core/ultratb.py\", line 792, in lines\n",
      "    return self._sd.lines\n",
      "           ^^^^^^^^^^^^^^\n",
      "  File \"/opt/anaconda3/lib/python3.11/site-packages/stack_data/utils.py\", line 145, in cached_property_wrapper\n",
      "    value = obj.__dict__[self.func.__name__] = self.func(obj)\n",
      "                                               ^^^^^^^^^^^^^^\n",
      "  File \"/opt/anaconda3/lib/python3.11/site-packages/stack_data/core.py\", line 698, in lines\n",
      "    pieces = self.included_pieces\n",
      "             ^^^^^^^^^^^^^^^^^^^^\n",
      "  File \"/opt/anaconda3/lib/python3.11/site-packages/stack_data/utils.py\", line 145, in cached_property_wrapper\n",
      "    value = obj.__dict__[self.func.__name__] = self.func(obj)\n",
      "                                               ^^^^^^^^^^^^^^\n",
      "  File \"/opt/anaconda3/lib/python3.11/site-packages/stack_data/core.py\", line 649, in included_pieces\n",
      "    pos = scope_pieces.index(self.executing_piece)\n",
      "                             ^^^^^^^^^^^^^^^^^^^^\n",
      "  File \"/opt/anaconda3/lib/python3.11/site-packages/stack_data/utils.py\", line 145, in cached_property_wrapper\n",
      "    value = obj.__dict__[self.func.__name__] = self.func(obj)\n",
      "                                               ^^^^^^^^^^^^^^\n",
      "  File \"/opt/anaconda3/lib/python3.11/site-packages/stack_data/core.py\", line 628, in executing_piece\n",
      "    return only(\n",
      "           ^^^^^\n",
      "  File \"/opt/anaconda3/lib/python3.11/site-packages/executing/executing.py\", line 164, in only\n",
      "    raise NotOneValueFound('Expected one value, found 0')\n",
      "executing.executing.NotOneValueFound: Expected one value, found 0\n"
     ]
    }
   ],
   "source": [
    "address = 'Data/SimulacionData3.npz'\n",
    "figData = plt.subplots(nrows=1, ncols=1, figsize=(5, 4), sharex=False, sharey=False,\n",
    "                       gridspec_kw=dict(hspace=0.0, wspace=.13))\n",
    "dvideo = mod.Visualization(address, figData)\n",
    "\n",
    "n0 = 0\n",
    "dataname = '.data'\n",
    "nameV = 'video_guitar3'\n",
    "xmin, xmax, ls, lw, color = xi[0], xi[-1], '-', 1, '#f0784d'\n",
    "struc = [xmin, xmax, ls, lw, color]\n",
    "\n",
    "dvideo.video(n0, dataname, struc, nameV, show=True, ylim=[-.01, .01])"
   ]
  },
  {
   "cell_type": "code",
   "execution_count": null,
   "metadata": {},
   "outputs": [],
   "source": []
  },
  {
   "cell_type": "code",
   "execution_count": null,
   "metadata": {},
   "outputs": [],
   "source": []
  },
  {
   "cell_type": "code",
   "execution_count": null,
   "metadata": {},
   "outputs": [],
   "source": [
    "def guitar():\n",
    "    \"\"\"Triangular wave (pulled guitar string).\"\"\"\n",
    "    xmax = 0.75\n",
    "    x0 = 0.8*xmax\n",
    "    a = 0.005\n",
    "    freq = 440\n",
    "    wavelength = 2*xmax\n",
    "    c = freq*wavelength\n",
    "    C = 1\n",
    "    omega = 2*np.pi*freq\n",
    "    num_periods = 2\n",
    "    tmax = 2*np.pi/omega*num_periods\n",
    "    # Choose dt the same as the stability limit for Nx=50\n",
    "    Nx = 80 \n",
    "    dt = xmax/Nx/c\n",
    "\n",
    "    def I(x):\n",
    "        Ixi = a*x/x0\n",
    "        ind = x > x0\n",
    "        Ixi[ind] = a/(xmax-x0)*(xmax-x[ind])\n",
    "        return Ixi\n",
    "\n",
    "    u, xi, ti, cpu_time = mod.solver(I, xmax, tmax, dt, C, c=c, ZipName='SimulacionData2')   \n",
    "    return u, xi, ti, cpu_time"
   ]
  },
  {
   "cell_type": "code",
   "execution_count": null,
   "metadata": {},
   "outputs": [],
   "source": [
    "u, xi, ti, cpu_time = guitar()"
   ]
  },
  {
   "cell_type": "code",
   "execution_count": null,
   "metadata": {},
   "outputs": [],
   "source": [
    "address = 'Data/SimulacionData2.npz'\n",
    "figData = plt.subplots(nrows=1, ncols=1, figsize=(5, 4), sharex=False, sharey=False, gridspec_kw=dict(hspace=0.0, wspace=.13))\n",
    "dvideo = mod.Visualization(address, figData)\n",
    "\n",
    "n0 = 0\n",
    "dataname = '.data'\n",
    "nameV = 'video_guitar'\n",
    "xmin, xmax, ls, lw, color = xi[0], xi[-1], '-', 1, '#f0784d'\n",
    "struc = [xmin, xmax, ls, lw, color]\n",
    "\n",
    "dvideo.video(n0, dataname, struc, nameV, show=True, ylim=[-.01, .01])"
   ]
  },
  {
   "cell_type": "code",
   "execution_count": 42,
   "metadata": {},
   "outputs": [],
   "source": [
    "# Ejemplo 3\n",
    "\n",
    "def soliton2(xlim, tlim, utilez, NoHomog=[0, 0], ZipName='SimulacionData', info=False,\n",
    "           user_action=None):\n",
    "    \"\"\"Gauss wave (pulled guitar string).\"\"\"\n",
    "\n",
    "    xmin, xmax = xlim\n",
    "    tmin, tmax = tlim\n",
    "    Nx, v, v0, lam, m , C = utilez\n",
    "    \n",
    "    dt = C*(xmax/Nx)\n",
    "    dx = dt/float(C)\n",
    "\n",
    "    def kinProf(x, lam, v, v0, m):\n",
    "        return lam*v*np.tanh(m*x/(np.sqrt(2*(1-v0**2))))\n",
    "    \n",
    "    def dkinProf(x, lam, v, v0, m):\n",
    "        return (-lam*m*v*v0/np.sqrt(2*(1-v0**2)))/np.cosh(m*x/(np.sqrt(2*(1-v0**2))))**2\n",
    "\n",
    "    def u0x(x):\n",
    "        uxi0 = kinProf(x, lam, v, v0, m)\n",
    "        return uxi0\n",
    "    \n",
    "    def ut(x):\n",
    "        duxi0 = dkinProf(x, lam, v, v0, m)\n",
    "        return duxi0\n",
    "        \n",
    "    dVx = lambda u: lam*(u**2-v**2)*u\n",
    "    \n",
    "    u, xi, ti, cpu_time = mod.solver(dt=dt, dx=dx, xmin=xmin, xmax=xmax, tmin=tmin, tmax=tmax,\n",
    "                                     ux=u0x, dux=ut, dVx=dVx, NoHomog=NoHomog, ZipName=ZipName,\n",
    "                                     info=info, user_action=user_action)\n",
    "    \n",
    "    return u, xi, ti, cpu_time"
   ]
  },
  {
   "cell_type": "code",
   "execution_count": 46,
   "metadata": {},
   "outputs": [],
   "source": [
    "x0, xmax = -10, 10\n",
    "xlim = [x0, xmax]\n",
    "\n",
    "tmin, tmax = 0, 10\n",
    "tlim = [tmin, tmax]\n",
    "\n",
    "v = 1\n",
    "m = 1\n",
    "lam = 1\n",
    "v0 = 0.5\n",
    "Nx = 500\n",
    "C = 1\n",
    "\n",
    "utilez = [Nx, v, v0, lam, m, C]\n",
    "nameZip = 'SimulacionData3'\n",
    "NoHomog = [-v, v]\n",
    "\n",
    "u, xi, ti, cpu_time = soliton2(xlim, tlim, utilez, NoHomog=NoHomog, ZipName=nameZip, info=False,\n",
    "           user_action=None)"
   ]
  },
  {
   "cell_type": "code",
   "execution_count": 45,
   "metadata": {},
   "outputs": [
    {
     "name": "stderr",
     "output_type": "stream",
     "text": [
      "/var/folders/mf/vfyq6zyn4l35gfd2kgq4k2q00000gn/T/ipykernel_43629/3236642675.py:2: UserWarning: cmr10 font should ideally be used with mathtext, set axes.formatter.use_mathtext to True\n",
      "  figData = plt.subplots(nrows=1, ncols=1, figsize=(5, 4), sharex=False, sharey=False,\n"
     ]
    },
    {
     "data": {
      "image/png": "[encoded data removed]",
      "text/plain": [
       "<Figure size 500x400 with 1 Axes>"
      ]
     },
     "metadata": {},
     "output_type": "display_data"
    }
   ],
   "source": [
    "address = 'Data/SimulacionData3.npz'\n",
    "figData = plt.subplots(nrows=1, ncols=1, figsize=(5, 4), sharex=False, sharey=False,\n",
    "                       gridspec_kw=dict(hspace=0.0, wspace=.13))\n",
    "fu = lambda t, x: lam*v*np.tanh(m*(x-v0*t)/np.sqrt(1-v0**2)/np.sqrt(2))\n",
    "dvideo = mod.Visualization(address, figData, solAnalit=fu)\n",
    "\n",
    "n0 = 0\n",
    "dataname = '.data'\n",
    "nameV = 'soliton3'\n",
    "xmin, xmax, ls, lw, color = xi[0], xi[-1], '-', 1, '#f0784d'\n",
    "struc = [xmin, xmax, ls, lw, color]\n",
    "\n",
    "dvideo.video(n0, dataname, struc, nameV, show=True, ylim=[-1.25, 1.25])"
   ]
  },
  {
   "cell_type": "code",
   "execution_count": null,
   "metadata": {},
   "outputs": [],
   "source": []
  },
  {
   "cell_type": "code",
   "execution_count": null,
   "metadata": {},
   "outputs": [],
   "source": []
  }
 ],
 "metadata": {
  "kernelspec": {
   "display_name": "base",
   "language": "python",
   "name": "python3"
  },
  "language_info": {
   "codemirror_mode": {
    "name": "ipython",
    "version": 3
   },
   "file_extension": ".py",
   "mimetype": "text/x-python",
   "name": "python",
   "nbconvert_exporter": "python",
   "pygments_lexer": "ipython3",
   "version": "3.11.7"
  }
 },
 "nbformat": 4,
 "nbformat_minor": 2
}
