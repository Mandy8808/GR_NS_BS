{
 "cells": [
  {
   "cell_type": "code",
   "execution_count": 1,
   "metadata": {},
   "outputs": [],
   "source": [
    "%load_ext autoreload\n",
    "%autoreload 2"
   ]
  },
  {
   "cell_type": "code",
   "execution_count": 2,
   "metadata": {},
   "outputs": [],
   "source": [
    "import numpy as np\n",
    "import matplotlib.pyplot as plt"
   ]
  },
  {
   "cell_type": "markdown",
   "metadata": {},
   "source": [
    "<img src=\"Imagenes/fig3.png\" width=\"500\" > >"
   ]
  },
  {
   "cell_type": "markdown",
   "metadata": {},
   "source": [
    "## Respuesta 1\n",
    "\n",
    "$$\n",
    "f''(x) + \\frac{f'(x)}{x}= \\frac{dU}{df},\n",
    "$$\n",
    "\n",
    "donde $U= \\frac{n^2 f^2}{2x^2} + \\frac{\\lambda}{4}\\left(f(x)^2-v^2\\right)^2$. Analizando la solución del la EDO alrededor de $x=0$ encontramos que $f\\sim r^n$ para asegurar regularidad en el origen. Lo que nos lleva a proponer el siguiente cambio de variable $f = x^n \\sigma(x)$ quedando la EDO como:\n",
    "\n",
    "$$\n",
    "\\sigma''(x) + \\frac{(1+2 n)}{x}\\sigma'(x) = \\frac{dV}{d\\sigma},\n",
    "$$\n",
    "\n",
    "donde ahora $V=\\frac{\\lambda}{4}(x^{2n} \\sigma^2-2 v^2) \\sigma^2$. En el problema nos piden que en $\\lim_{x\\to \\infty} f(x) = v$, lo que se traduce a la condición $\\sigma(x_{max})=v/x_{max}^n$"
   ]
  },
  {
   "cell_type": "code",
   "execution_count": 3,
   "metadata": {},
   "outputs": [],
   "source": [
    "def sysEq(x, yval, v, lam, n):\n",
    "    \"\"\" \n",
    "    \"\"\"\n",
    "    s, ds = yval\n",
    "    \n",
    "    if x==0:\n",
    "        f1 = ds\n",
    "        f2 = -v**2*lam*s/2/(1+n)\n",
    "    else:\n",
    "        f1 = ds\n",
    "        f2 = -v**2*lam*s + x**(2*n)*s**3 - (1+2*n)*ds/x\n",
    "        \n",
    "    return [f1, f2]\n",
    "    \n",
    "\n",
    "# Implementacion\n",
    "def RKMet(func, data, arg=None, rk='rk5'):\n",
    "    \"\"\"\n",
    "    Implementacion del metodo de  Runge Kutta de orden 4 y 5\n",
    "\n",
    "    In:\n",
    "    func -> Sistema de EDO, debe tener la estructura:\n",
    "            (x, yval, a, b, ..) donde a, b, .. son argumentos que se han de pasar como listas a la variable arg\n",
    "    \n",
    "    data -> Es una lista [y0v, a, b, npt] que proporciona la información necesaria para la implementación del RK donde\n",
    "            y0v ->  es una lista con las condiciones de frontera en r=a\n",
    "            a, b -> rmin, rmax\n",
    "            npt -> son los números de puntos usados para generar h = (b-a)/(npt-1)\n",
    "    arg -> argumentos que se le pasarán al sistema de ecuaciones\n",
    "    rk -> el método que se utilizará puede ser 'rk4' o 'rk5', por defecto está el 'rk5'\n",
    "\n",
    "    Out:\n",
    "    xval -> un arreglo discreto de valores de ri, donde se itero  \n",
    "    yval -> una lista de arreglos discretos correspondientes a las iteraciones con la misma estructura que y0v. Cada fila corresponde a un ri.\n",
    "    \"\"\"\n",
    "    if arg:\n",
    "        f = lambda x, yv: np.array(func(x, yv, *arg))\n",
    "    else:\n",
    "        f = lambda x, yv: np.array(func(x, yv))\n",
    "    \n",
    "    if rk == 'rk5':\n",
    "        xval, yval = rk5Gene(f, data)\n",
    "    else:\n",
    "        xval, yval = rk4Gene(f, data)\n",
    "    \n",
    "    return xval, yval\n",
    "    \n",
    "\n",
    "def rk4Gene(f, data):\n",
    "    y0v, a, b, npt = data\n",
    "\n",
    "    # h val\n",
    "    h = (b-a)/(npt-1)\n",
    "    xval = a + np.arange(npt)*h\n",
    "    nEq = len(y0v)\n",
    "    yval = np.zeros((npt, nEq))  # crea una matriz (npt, nEq)\n",
    "    \n",
    "    yv = np.copy(y0v)\n",
    "    for j, xi in enumerate(xval):\n",
    "        yval[j, :] = yv\n",
    "        k0 = h*f(xi, yv)  # importante como se define la función, tiene que ser de la forma f(x, yv) donde yv=[y0, y1, ...]\n",
    "        k1 = h*f(xi+h/2, yv+k0/2)\n",
    "        k2 = h*f(xi+h/2, yv+k1/2)\n",
    "        k3 = h*f(xi+h, yv+k2)\n",
    "        yv = yv + (k0 + 2*k1 + 2*k2 + k3)/6\n",
    "        #yv += (k0 + 2*k1 + 2*k2 + k3)/6\n",
    "           \n",
    "    return xval, yval\n",
    "\n",
    "def rk5Gene(f, data):\n",
    "    \"\"\"\n",
    "    Implementacion del metodo de  Runge Kutta de orden 5\n",
    "\n",
    "    In:\n",
    "    func -> Sistema de EDO, debe tener la estructura:\n",
    "            (x, yval, a, b, ..) donde a, b, .. son argumentos que se han de pasar como listas a la variable arg\n",
    "    \n",
    "    data -> Es una lista [y0v, a, b, npt] que proporciona la información necesaria para la implementación del RK donde\n",
    "            y0v ->  es una lista con las condiciones de frontera en r=a\n",
    "            a, b -> rmin, rmax\n",
    "            npt -> son los números de puntos usados para generar h = (b-a)/(npt-1)\n",
    "    \n",
    "    Out:\n",
    "    xval -> un arreglo discreto de valores de ri, donde se itero  \n",
    "    yval -> una lista de arreglos discretos correspondientes a las iteraciones con la misma estructura que y0v. Cada fila corresponde a un ri.\n",
    "    \"\"\"\n",
    "    y0v, a, b, npt = data\n",
    "\n",
    "    # h val\n",
    "    h = (b-a)/(npt-1)\n",
    "    xval = a + np.arange(npt)*h\n",
    "    nEq = len(y0v)\n",
    "    yval = np.zeros((npt, nEq))  # crea una matriz (npt, nEq)\n",
    "    \n",
    "    yv = np.copy(y0v)\n",
    "    for j, xi in enumerate(xval):\n",
    "        yval[j, :] = yv\n",
    "        k0 = h*f(xi, yv)  # importante como se define la función, tiene que ser de la forma f(x, yv) donde yv=[y0, y1, ...]\n",
    "        k1 = h*f(xi+h/4, yv+k0/4)\n",
    "        k2 = h*f(xi+3*h/8, yv+3*k0/32+9*k1/32)\n",
    "        k3 = h*f(xi+12/13*h, yv+1932*k0/2197-7200*k1/2197+7296*k2/2197)\n",
    "        k4 = h*f(xi+h, yv+439*k0/216-8*k1+3680*k2/513-845*k3/4104)\n",
    "        k5 = h*f(xi+h/2, yv-8*k0/27+2*k1-3544*k2/2565+1859*k3/4104-11*k4/40)\n",
    "        yv = yv + 16*k0/135 + 6656*k2/12825 + 28561*k3/56430-9*k4/50 + 2*k5/55\n",
    "    return xval, yval"
   ]
  },
  {
   "cell_type": "code",
   "execution_count": 4,
   "metadata": {},
   "outputs": [],
   "source": [
    "from Complementos.root.BS import roo_Bis\n",
    "from scipy.integrate import solve_ivp\n",
    "\n",
    "# implementación\n",
    "def shoot(func, sig, dsig, x0, xmax, npt, arg=None, info=False, RK=False):\n",
    "    v, _, n = arg\n",
    "    yf = v/xmax**n\n",
    "    \n",
    "    y0v = [sig, dsig]\n",
    "    data = [y0v, x0, xmax, npt] \n",
    "    \n",
    "    if RK: \n",
    "        xval, ys = RKMet(func, data, arg=arg)\n",
    "    else:\n",
    "        if arg:\n",
    "            f = lambda x, yv: np.array(func(x, yv, *arg))\n",
    "        else:\n",
    "            f = lambda x, yv: np.array(func(x, yv))\n",
    "        \n",
    "        \n",
    "        xvalI = np.linspace(x0, xmax, npt)\n",
    "        sol = solve_ivp(f, [x0, xmax], y0v, t_eval=xvalI, method='RK45', rtol=1e-09, atol=1e-10)  # ='RK45' DOP853\n",
    "        xval, ys =  sol.t, sol.y[0]\n",
    "    \n",
    "    if info:\n",
    "        if RK:\n",
    "            plt.plot(xval, xval**n*ys[:, 0])\n",
    "        else:\n",
    "            plt.plot(xval, xval**n*ys)\n",
    "        plt.hlines(y=v, xmin=x0, xmax=xmax)\n",
    "        plt.show()\n",
    "    \n",
    "    if info:\n",
    "        if RK:\n",
    "            print('yf -> ', yf,  'Itera -> ', ys[-1, 0], 'Dif -> ', ys[-1, 0]-yf, ' ', 'sigma -> ', sig)\n",
    "        else:\n",
    "            print('yf -> ', yf,  'Itera -> ', ys[-1], 'Dif -> ', ys[-1]-yf, ' ', 'sigma -> ', sig)\n",
    "    \n",
    "    if RK:\n",
    "        dif = ys[-1, 0]-yf\n",
    "    else:\n",
    "        dif = ys[-1]-yf\n",
    "            \n",
    "    return dif\n",
    "\n",
    "def shooting(func, datos, arg=None, inter=[-1e10, 1e10], Nit=1000, Ndiv=100, eps=1e-05, info=False, RK=False):\n",
    "    dsig, x0, xmax, npt = datos\n",
    "    sol2 = lambda sig: shoot(func, sig, dsig, x0, xmax, npt, arg=arg, info=info, RK=RK)\n",
    "    yder = roo_Bis(sol2, inter, Nit=Nit, error='dist', eps=eps, Ndiv=Ndiv) \n",
    "    return yder"
   ]
  },
  {
   "cell_type": "code",
   "execution_count": 8,
   "metadata": {},
   "outputs": [
    {
     "data": {
      "text/plain": [
       "[0.15309910588078313]"
      ]
     },
     "execution_count": 8,
     "metadata": {},
     "output_type": "execute_result"
    }
   ],
   "source": [
    "dsig = 0  # y1=15 # 0.58\n",
    "x0, xmax = 0, 13\n",
    "npt = 5000\n",
    "datos = [dsig, x0, xmax, npt]\n",
    "v, lam, n = 1, 1, 2\n",
    "\n",
    "derVal = shooting(sysEq, datos, arg=[v, lam, n], inter=[0, 0.5],\n",
    "                  Nit=1000, Ndiv=1000, eps=1e-08, info=False, RK=False)\n",
    "derVal"
   ]
  },
  {
   "cell_type": "code",
   "execution_count": 14,
   "metadata": {},
   "outputs": [
    {
     "data": {
      "image/png": "[encoded data removed]",
      "text/plain": [
       "<Figure size 640x480 with 1 Axes>"
      ]
     },
     "metadata": {},
     "output_type": "display_data"
    }
   ],
   "source": [
    "arg = [v, lam, n]\n",
    "xvalI = np.linspace(x0, xmax, npt)\n",
    "f = lambda x, yv: np.array(sysEq(x, yv, *arg))\n",
    "\n",
    "dsig = 0\n",
    "sig = derVal[0]\n",
    "y0v = [sig, dsig]\n",
    "        \n",
    "sol = solve_ivp(f, [x0, xmax], y0v, t_eval=xvalI, method='RK45', rtol=1e-09, atol=1e-10)\n",
    "\n",
    "plt.plot(sol.t, sol.t**n*sol.y[0], label=r'$\\sigma_0^{\\prime}=%3.2f$'%sig)\n",
    "plt.hlines(y=v, xmin=x0, xmax=xmax, ls='--', color='k', lw=0.5)\n",
    "plt.xlim(x0, xmax)\n",
    "plt.legend(loc='lower right', frameon=False)\n",
    "plt.show()\n"
   ]
  },
  {
   "cell_type": "code",
   "execution_count": null,
   "metadata": {},
   "outputs": [],
   "source": []
  }
 ],
 "metadata": {
  "kernelspec": {
   "display_name": "base",
   "language": "python",
   "name": "python3"
  },
  "language_info": {
   "codemirror_mode": {
    "name": "ipython",
    "version": 3
   },
   "file_extension": ".py",
   "mimetype": "text/x-python",
   "name": "python",
   "nbconvert_exporter": "python",
   "pygments_lexer": "ipython3",
   "version": "3.11.7"
  }
 },
 "nbformat": 4,
 "nbformat_minor": 2
}
