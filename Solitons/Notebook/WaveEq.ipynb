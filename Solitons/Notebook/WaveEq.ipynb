{
 "cells": [
  {
   "cell_type": "code",
   "execution_count": null,
   "metadata": {},
   "outputs": [],
   "source": []
  },
  {
   "cell_type": "code",
   "execution_count": 1,
   "metadata": {},
   "outputs": [],
   "source": [
    "import numpy as np\n",
    "import matplotlib.pyplot as plt"
   ]
  },
  {
   "cell_type": "markdown",
   "metadata": {},
   "source": [
    "A continuación resolveremos esquemáticamente una onda que se propaga en la dirección $x$ en un espacio-tiempo plano (1 dimensión temporal y 1 espacial). En este caso tendremos que el elemento de linea sería:\n",
    "$$\n",
    "ds^2=-dt^2+dx^2\n",
    "$$\n",
    "\n",
    "Como fue descrito por el profesor Alberto, el modelo matemático que describiría nuestro problema viene dado por la ecuación de "
   ]
  },
  {
   "cell_type": "markdown",
   "metadata": {},
   "source": [
    "A simple vista vemos que nos enfrentamos a una ecuación con derivadas parciales, para resolverla numéricamente usaremos métodos de diferencias finitas. \n",
    "\n",
    "En una primera parte del curso mostraremos mediante ejemplos sencillos la construcción de esquemas de diferencias finitas, su formulación e implementación de algoritmos, así como la verificación de las implementaciones. Para una vez comprendido las ideas básicas simular la evolución temporal de una onda uni-dimensional."
   ]
  },
  {
   "cell_type": "code",
   "execution_count": null,
   "metadata": {},
   "outputs": [],
   "source": []
  }
 ],
 "metadata": {
  "kernelspec": {
   "display_name": "base",
   "language": "python",
   "name": "python3"
  },
  "language_info": {
   "codemirror_mode": {
    "name": "ipython",
    "version": 3
   },
   "file_extension": ".py",
   "mimetype": "text/x-python",
   "name": "python",
   "nbconvert_exporter": "python",
   "pygments_lexer": "ipython3",
   "version": "3.11.7"
  }
 },
 "nbformat": 4,
 "nbformat_minor": 2
}
