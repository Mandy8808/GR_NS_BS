{
 "cells": [
  {
   "cell_type": "code",
   "execution_count": 1,
   "metadata": {},
   "outputs": [],
   "source": [
    "%load_ext autoreload\n",
    "%autoreload 2"
   ]
  },
  {
   "cell_type": "code",
   "execution_count": 2,
   "metadata": {},
   "outputs": [],
   "source": [
    "import numpy as np\n",
    "import time\n",
    "import matplotlib.pyplot as plt\n",
    "\n",
    "import Module as mod"
   ]
  },
  {
   "cell_type": "code",
   "execution_count": 3,
   "metadata": {},
   "outputs": [],
   "source": [
    "import plt_conf as conf\n",
    "conf.general()  # cargando configuración general"
   ]
  },
  {
   "cell_type": "markdown",
   "metadata": {},
   "source": [
    "A continuación apliquemos lo anteriormente visto a un sistema que describe un movimiento ondulatorio, p.ej. señales se propagan a través de un medio en el espacio y el tiempo. Muchos tipos de movimiento ondulatorio pueden describirse mediante la ecuación diferencial \n",
    "$$\n",
    "u_{tt} = \\nabla \\cdot (c^2 \\nabla u) + f\n",
    "$$"
   ]
  },
  {
   "cell_type": "markdown",
   "metadata": {},
   "source": [
    "### Simulación de ondas en una cuerda\n",
    "\n",
    "Consideremos el caso de ondas unidimensionales en una cuerda, por ejemplo, en una guitarra. Supongamos que la cuerda en estado deformado coincide con el intervalo $[0, L]$ a lo largo del eje $x$, y $u(x, t)$ representa el desplazamiento en el tiempo $t$ en la dirección $x$ con una velocidad $c$ desde un punto inicialmente $x_0$. La función de desplazamiento $u$ está determinada por el modelo matemático (ecuación de onda uni-dimensional)\n",
    "$$\n",
    "\\frac{\\partial^2 u}{\\partial t^2}=c^2\\frac{\\partial^2 u}{\\partial x^2}, \\qquad x\\in(0, L), t\\in(0, T]\n",
    "$$\n",
    "\n",
    "Como la ecuación diferencial es de segundo orden, tanto en el tiempo, como en el espacio necesitamos dos condiciones iniciales las cuales especifícan la forma de la cuerda y la velocidad inicial de la misma:\n",
    "$$\n",
    "u(x, 0)=I(x), \\quad \\frac{\\partial}{\\partial t}u(x, 0)=0, \\qquad x\\in[0, L],\n",
    "$$\n",
    "y dos condiciones de fronteras las cuales definiremos acorde a una cuerda con los extremos fijos (el desplazamiento de $u$ es cero):\n",
    "$$\n",
    "u(0, t)=0, \\quad u(L, t)=0, \\qquad t\\in(0, T].\n",
    "$$\n"
   ]
  },
  {
   "cell_type": "markdown",
   "metadata": {},
   "source": [
    "### Discretizando el dominio\n",
    "\n",
    "Para la resolución del problema tenemos que discretizar nuestro dominio temporal $[0, T]$ y espacial $[0, L]$, es decir:\n",
    "$$\n",
    "0=t_0<t_1< t_2< \\dots < t_{N_t-1} < t_{N_t}=T, \\qquad 0=x_0<x_1< x_2< \\dots < x_{N_x-1} < t_{N_x}=L,\n",
    "$$ \n",
    "\n",
    "lo que nos lleva a construir una *malla* bidimensional correspondiente al plano $x, t$, cuyas cordenadas serían $(x_i, t_n)$, con $i=0,\\dots, N_x$ y $n=0,\\dots, N_t$.\n",
    "\n",
    "**IMPLEMENTACION:** $x_i = x_0 + i\\triangle x, \\quad t_n = t_0 + n \\triangle t$ donde $\\triangle x, \\triangle t$ representan el ancho de las mallas espaciales y temporales respectivamente."
   ]
  },
  {
   "cell_type": "markdown",
   "metadata": {},
   "source": [
    "### Discretizando la solución\n",
    "\n",
    "Tendremos que la solución $u(x, t)$ estará discretizada, es decir, evaluada en la malla $2D$. Por simplicidad es usual introducir la notación $u_{i}^{n}$ para indicar la solución aproximada en el punto $(x_i, t_n)$."
   ]
  },
  {
   "cell_type": "markdown",
   "metadata": {},
   "source": [
    "### Discretizando la ecuación diferencial\n",
    "\n",
    "A continuación procederemos a discretizar el ecuación diferencial \n",
    "\n",
    "$$\n",
    "\\frac{\\partial^2 u}{\\partial t^2}=c^2\\frac{\\partial^2 u}{\\partial x^2},\n",
    "$$\n",
    "\n",
    "para ello remplazaremos la segunda derivada por su aproximación de segundo orden de la diferencia central\n",
    "$$\n",
    "\\frac{\\partial^2}{\\partial t^2}u(x_i, t_n)\\approx \\frac{u_{i}^{n+1}-2u_{i}^{n}+u_{i}^{n-1}}{\\triangle t^2}=[D_tD_t u]^{n}_{i}.\n",
    "$$\n",
    "\n",
    "Finalmente tendremos que:\n",
    "\\begin{align}\n",
    "\\frac{u_{i}^{n+1}-2u_{i}^{n}+u_{i}^{n-1}}{\\triangle t^2}&=c^2 \\frac{u_{i+1}^{n}-2u_{i}^{n}+u_{i-1}^{n}}{\\triangle x^2},\\\\\n",
    "[D_tD_t u &= c^2 D_xD_x u]^{n}_{i}.\n",
    "\\end{align}"
   ]
  },
  {
   "cell_type": "markdown",
   "metadata": {},
   "source": [
    "Interpretemos nuestra discretización. Como se aprecia el valor de $u_i^{n}$ dependerá del valor de sus vecinos $u_i^{n\\pm 1}$ y $u_{i\\pm 1}^{n}$ como se ilustra en la figura\n",
    "\n",
    "<img src=\"Imagenes/fig1.png\">"
   ]
  },
  {
   "cell_type": "markdown",
   "metadata": {},
   "source": [
    "Ahora nuestro objetivo es encontrar $u_{i}^{n+1}$, es decir evolucionar en el tiempo toda la malla espacial, para ello debemos despejar este término en la versión discreta de la ecuación diferencial, quedando \n",
    "$$\n",
    "u_{i}^{n+1} =  -u_{i}^{n-1}+2u_{i}^{n}+C^2(u_{i+1}^{n}-2u_{i}^{n}+u_{i-1}^{n}),\n",
    "$$\n",
    "\n",
    "donde $C=c\\frac{\\triangle t}{\\triangle x}$ y es conocido como el numero de Courant. El cual no es más que el parámetro que discretiza la ecuación de onda."
   ]
  },
  {
   "cell_type": "markdown",
   "metadata": {},
   "source": [
    "#### Condiciones de iniciales y de frontera\n",
    "\n",
    "De manera similar debemos discretizar nuestra condición inicial: $\\frac{\\partial}{\\partial t}u(x, 0)=0$. Para ello tomamos la aproximación para la primera derivada de la diferencia central:\n",
    "$$\n",
    "\\frac{\\partial}{\\partial t} u(x_i, t_0)\\approx \\frac{u_i^{1}-u_i^{-1}}{2\\triangle t}=[D_{2t}u]^{0}_{i}=0,\n",
    "$$\n",
    "de donde tendremos que $u_i^{-1}=u_i^{1}$. La otra condición inicial nos lleva a $u_{i}^{0}=I(x_i)$ para $i=0,\\dots, N_x$.\n",
    "\n",
    "De las condiciones de frontera tendremos que $u_{0}^{n}=u_{N_x}^{n}=0$ (extremos fijos)."
   ]
  },
  {
   "cell_type": "markdown",
   "metadata": {},
   "source": [
    "#### Primer paso de iteración (n=0)\n",
    "Veamos ahora como sería el primer paso de iteración en el tiempo $n=0$:\n",
    "$$\n",
    "u_{i}^{1} = -u_{i}^{-1}+2u_{i}^{0}+C^2(u_{i+1}^{0}-2u_{i}^{0}+u_{i-1}^{0}),\n",
    "$$\n",
    "\n",
    "Notan algo raro? Necesitamos computar $u_{i}^{-1}$.\n",
    "\n",
    "Usando la relación obtenida anteriormente ($u_i^{-1}=u_i^{1}$), podemos obtener la expresión para el primer paso de iteración:\n",
    "$$\n",
    "u_{i}^{1} = u_{i}^{0}+\\frac{C^2}{2}(u_{i+1}^{0}-2u_{i}^{0}+u_{i-1}^{0}).\n",
    "$$\n",
    "\n",
    "Esquemáticamente lo que tendriamos sería\n",
    "\n",
    "<img src=\"Imagenes/fig2.png\">"
   ]
  },
  {
   "cell_type": "markdown",
   "metadata": {},
   "source": [
    "Finalmente resumamos nuestro esquema de iteración:\n",
    "- Calculamos $u_i^{0}=I(x_i)$ para $i=0,\\dots, N_x$,\n",
    "- Calculamos $u_i^{1}$ mediante:\n",
    "$$\n",
    "u_{i}^{1} = u_{i}^{0}+\\frac{C^2}{2}(u_{i+1}^{0}-2u_{i}^{0}+u_{i-1}^{0}).\n",
    "$$\n",
    "fijando $u_i^{1}=0$ para los puntos de la frontera $i=0, N_x$ para todo $n=1,\\dots, N_t-1$.\n",
    "- Para cada paso de iteración temporal $n=1, 2,\\dots, N_t-1$ realizamos los siguientes pasos:\n",
    "    - Calculamos $u_{i}^{n+1}$ para todas las $i=1, \\dots, N_x-1$\n",
    "    $$\n",
    "    u_{i}^{n+1} =  -u_{i}^{n-1}+2u_{i}^{n}+C^2(u_{i+1}^{n}-2u_{i}^{n}+u_{i-1}^{n}),\n",
    "    $$\n",
    "    - Fijamos $u_i^{n+1}=0$ para los puntos de la frontera  $i=0, N_x$.\n",
    "\n",
    "En resumen este algoritmo esencialmente consiste en recorrer mediante diferencias finitas toda la malla 2D."
   ]
  },
  {
   "cell_type": "code",
   "execution_count": null,
   "metadata": {},
   "outputs": [],
   "source": []
  },
  {
   "cell_type": "markdown",
   "metadata": {},
   "source": [
    "#### Generalización\n",
    "\n",
    "El modelo matemático anterior puede generalizarce con la inclusión de un término fuente, es decir, un generador de la onda.\n",
    "\\begin{align}\n",
    "u_{tt}&=c^2 u_{xx}+f(x, t), \\qquad x\\in(0, L), t\\in(0,T],\\\\\n",
    "u(x, 0)&=I(x), \\qquad x\\in [0, L],\\\\\n",
    "u_t(x, 0)& = V(x), \\qquad x\\in [0, L],\\\\\n",
    "u(0, t)&=0, \\qquad t>0,\\\\\n",
    "u(L, t)&=0, \\qquad t>0.\n",
    "\\end{align}\n",
    "\n",
    "Usando la notación anteriormente vista tendremos que:\n",
    "$$\n",
    "[D_tD_tu=c^2D_xD_x u+f]_i^{n}.\n",
    "$$\n",
    "\n",
    "Resolviendo para $u_i^{n+1}$ tendremos:\n",
    "\\begin{align}\\begin{aligned}\\tag{6}\n",
    "u^{n+1}_i = -u^{n-1}_i + 2u^n_i + C^2\n",
    "    (u^{n}_{i+1}-2u^{n}_{i} + u^{n}_{i-1}) + \\Delta t^2 f^n_i.\\\\    {\\thinspace}\\end{aligned}\\end{align}"
   ]
  },
  {
   "cell_type": "markdown",
   "metadata": {},
   "source": [
    "Similar al caso anterior, debemos obtener la expresión para el primer paso de iteración en el tiempo, para ello discretizamos la condición inicial $u_t=V(x)$ en $t=0$,\n",
    "\\begin{align}\n",
    "[D_{2t}u = V]^0_i\\quad\\Rightarrow\\quad u^{-1}_i = u^{1}_i - 2\\Delta t V_i,\n",
    "\\end{align}\n",
    "\n",
    "Lo cual nos lleva a:\n",
    "\\begin{align}\\begin{aligned}\\tag{183}\n",
    "u^{1}_i = u^0_i + \\Delta t V_i + {\\frac{1}{2}} C^2 \\left(u^{0}_{i+1}-2u^{0}_{i} + u^{0}_{i-1}\\right) + \\frac{1}{2}\\Delta t^2 f^0_i {\\thinspace .}\\end{aligned}\\end{align}"
   ]
  },
  {
   "cell_type": "code",
   "execution_count": 6,
   "metadata": {},
   "outputs": [],
   "source": [
    "# EJEMPLOS\n",
    "\n",
    "# Ejemplo 1\n",
    "# Definiendo las condiciones de frontera u(0, t)=u(L,t)=0 \n",
    "# y tomando f=2(1+t)c^2 tendremos que una solución analítica de la forma: u(x, t) = x(L-x)(1+t/2)\n",
    "# Donde tendremos como condiciones iniciales u(x,0)=I(x)=x(L-x), u_t(x, 0)=V(x)=x(L-x)/2\n",
    "\n",
    "#  c, I(x), V(x), f(x,t), L, and T\n",
    "def test_quadratic(xlim, tmax, utilez, ZipName='SimulacionData'):\n",
    "    \"\"\"\n",
    "    Solución analítica: u(x,t)=x(L-x)(1+t/2)\n",
    "    \"\"\"\n",
    "    x0, xmax = xlim\n",
    "    Nx, c, C = utilez\n",
    "\n",
    "    dt = C*(xmax/Nx)/c\n",
    "\n",
    "    # solución exacta:\n",
    "    u_exact = lambda x, t, xmax: x*(xmax-x)*(1 + 0.5*t)\n",
    "\n",
    "    # fuente\n",
    "    f = lambda x, t: (2 + t)*c**2\n",
    "\n",
    "    # condicion de frontera\n",
    "    I = lambda x: u_exact(x, x0, xmax)\n",
    "    V = lambda x: 0.5*u_exact(x, 0, xmax)\n",
    "\n",
    "    # resolviendo\n",
    "    u, xi, ti, cpu_time = mod.solver(I, xmax, tmax, dt, C, c=c, f=f, V=V, ZipName=ZipName)\n",
    "    return u, xi, ti, cpu_time"
   ]
  },
  {
   "cell_type": "code",
   "execution_count": 12,
   "metadata": {},
   "outputs": [],
   "source": [
    "tmax = 18\n",
    "x0, xmax = 0, 2.5\n",
    "c = 1.5; C = 0.75; Nx = 60\n",
    "xlim = [x0, xmax]\n",
    "utilez = [Nx, c, C]\n",
    "nameZip = 'SimulacionData'\n",
    "u, xi, ti, cpu_time = test_quadratic(xlim, tmax, utilez, ZipName=nameZip)"
   ]
  },
  {
   "cell_type": "code",
   "execution_count": 8,
   "metadata": {},
   "outputs": [
    {
     "name": "stderr",
     "output_type": "stream",
     "text": [
      "/var/folders/mf/vfyq6zyn4l35gfd2kgq4k2q00000gn/T/ipykernel_62008/3479587132.py:2: UserWarning: cmr10 font should ideally be used with mathtext, set axes.formatter.use_mathtext to True\n",
      "  figData = plt.subplots(nrows=1, ncols=1, figsize=(5, 4), sharex=False, sharey=False, gridspec_kw=dict(hspace=0.0, wspace=.13))\n"
     ]
    },
    {
     "data": {
      "image/png": "[encoded data removed]",
      "text/plain": [
       "<Figure size 500x400 with 1 Axes>"
      ]
     },
     "metadata": {},
     "output_type": "display_data"
    }
   ],
   "source": [
    "address = 'Data/'+nameZip+'.npz'\n",
    "figData = plt.subplots(nrows=1, ncols=1, figsize=(5, 4), sharex=False, sharey=False, gridspec_kw=dict(hspace=0.0, wspace=.13))\n",
    "dvideo = mod.Visualization(address, figData)\n",
    "\n",
    "n0 = 0\n",
    "dataname = '.data'\n",
    "nameV = 'video_quadratic'\n",
    "xmin, xmax, ls, lw, color = xi[0], xi[-1], '-', 1, '#f0784d'\n",
    "struc = [xmin, xmax, ls, lw, color]\n",
    "\n",
    "Sol_exact = lambda x, t: x*(xmax-x)*(1 + 0.5*t)\n",
    "dvideo.video(n0, dataname, struc, nameV, solEx=Sol_exact, show=False)"
   ]
  },
  {
   "cell_type": "code",
   "execution_count": null,
   "metadata": {},
   "outputs": [],
   "source": []
  },
  {
   "cell_type": "code",
   "execution_count": 24,
   "metadata": {},
   "outputs": [],
   "source": [
    "# Ejemplo 2\n",
    "def guitar(xlim, utilez, mu, sig, C=1, ZipName='SimulacionData'):\n",
    "    \"\"\"Gauss wave (pulled guitar string).\"\"\"\n",
    "\n",
    "    x0, xmax = xlim\n",
    "    Nx, a0, wavelength, freq, num_periods = utilez\n",
    "    \n",
    "    c = freq*wavelength\n",
    "    omega = 2*np.pi*freq\n",
    "    tmax = 2*np.pi/omega*num_periods\n",
    "    dt = C*(xmax/Nx)/c\n",
    "\n",
    "    # fuente\n",
    "    f = lambda x, t: 0\n",
    "\n",
    "    def gaussian(x, mu, sig, a0):\n",
    "        return a0/(np.sqrt(2.*np.pi)*sig)*np.exp(-np.power((x - mu)/sig, 2.)/2)\n",
    "\n",
    "    def I(x):\n",
    "        Ixi = gaussian(x, mu, sig, a0)\n",
    "        return Ixi\n",
    "\n",
    "    u, xi, ti, cpu_time = mod.solver(I, xmax, tmax, dt, C, x0=x0, c=c, f=f, ZipName=ZipName)   \n",
    "    return u, xi, ti, cpu_time"
   ]
  },
  {
   "cell_type": "code",
   "execution_count": 28,
   "metadata": {},
   "outputs": [],
   "source": [
    "a0, mu, sig = 0.01, 0, 0.5\n",
    "x0, xmax = -35, 35\n",
    "num_periods = 2\n",
    "freq = 440\n",
    "wavelength = 2*xmax\n",
    "c = 1.5;  Nx = 800\n",
    "xlim = [x0, xmax]\n",
    "utilez = [Nx, a0, wavelength, freq, num_periods]\n",
    "nameZip = 'SimulacionData2'\n",
    "\n",
    "u, xi, ti, cpu_time = guitar(xlim, utilez, mu, sig, C=1, ZipName=nameZip)"
   ]
  },
  {
   "cell_type": "code",
   "execution_count": 29,
   "metadata": {},
   "outputs": [
    {
     "name": "stderr",
     "output_type": "stream",
     "text": [
      "/var/folders/mf/vfyq6zyn4l35gfd2kgq4k2q00000gn/T/ipykernel_62008/1280131195.py:2: UserWarning: cmr10 font should ideally be used with mathtext, set axes.formatter.use_mathtext to True\n",
      "  figData = plt.subplots(nrows=1, ncols=1, figsize=(5, 4), sharex=False, sharey=False, gridspec_kw=dict(hspace=0.0, wspace=.13))\n"
     ]
    },
    {
     "data": {
      "image/png": "[encoded data removed]",
      "text/plain": [
       "<Figure size 500x400 with 1 Axes>"
      ]
     },
     "metadata": {},
     "output_type": "display_data"
    },
    {
     "ename": "KeyboardInterrupt",
     "evalue": "",
     "output_type": "error",
     "traceback": [
      "\u001b[0;31m---------------------------------------------------------------------------\u001b[0m",
      "\u001b[0;31mKeyboardInterrupt\u001b[0m                         Traceback (most recent call last)",
      "Cell \u001b[0;32mIn[29], line 11\u001b[0m\n\u001b[1;32m      8\u001b[0m xmin, xmax, ls, lw, color \u001b[38;5;241m=\u001b[39m xi[\u001b[38;5;241m0\u001b[39m], xi[\u001b[38;5;241m-\u001b[39m\u001b[38;5;241m1\u001b[39m], \u001b[38;5;124m'\u001b[39m\u001b[38;5;124m-\u001b[39m\u001b[38;5;124m'\u001b[39m, \u001b[38;5;241m1\u001b[39m, \u001b[38;5;124m'\u001b[39m\u001b[38;5;124m#f0784d\u001b[39m\u001b[38;5;124m'\u001b[39m\n\u001b[1;32m      9\u001b[0m struc \u001b[38;5;241m=\u001b[39m [xmin, xmax, ls, lw, color]\n\u001b[0;32m---> 11\u001b[0m dvideo\u001b[38;5;241m.\u001b[39mvideo(n0, dataname, struc, nameV, show\u001b[38;5;241m=\u001b[39m\u001b[38;5;28;01mTrue\u001b[39;00m, ylim\u001b[38;5;241m=\u001b[39m[\u001b[38;5;241m-\u001b[39m\u001b[38;5;241m.01\u001b[39m, \u001b[38;5;241m.01\u001b[39m])\n",
      "File \u001b[0;32m~/Library/Mobile Documents/com~apple~CloudDocs/GitHub/GR_NS_BS/solitons/Notebook/Module.py:443\u001b[0m, in \u001b[0;36mVisualization.video\u001b[0;34m(self, n0, dataname, struc, nameV, direc, xlim, ylim, vconf, solEx, show)\u001b[0m\n\u001b[1;32m    437\u001b[0m anim \u001b[38;5;241m=\u001b[39m animation\u001b[38;5;241m.\u001b[39mFuncAnimation(fig, \u001b[38;5;28mself\u001b[39m\u001b[38;5;241m.\u001b[39mupdateframe,\n\u001b[1;32m    438\u001b[0m                                frames\u001b[38;5;241m=\u001b[39m\u001b[38;5;28mrange\u001b[39m(n0, frames),\n\u001b[1;32m    439\u001b[0m                                fargs\u001b[38;5;241m=\u001b[39m(frame, frameSol, tframe, ax, ti, dataname, array_names, solEx, ylim),\n\u001b[1;32m    440\u001b[0m                                interval\u001b[38;5;241m=\u001b[39m\u001b[38;5;241m50\u001b[39m, blit\u001b[38;5;241m=\u001b[39m\u001b[38;5;28;01mFalse\u001b[39;00m)\n\u001b[1;32m    442\u001b[0m fps, bitrate, extra_args \u001b[38;5;241m=\u001b[39m vconf\n\u001b[0;32m--> 443\u001b[0m anim\u001b[38;5;241m.\u001b[39msave(nameV\u001b[38;5;241m+\u001b[39m\u001b[38;5;124m'\u001b[39m\u001b[38;5;124m.mp4\u001b[39m\u001b[38;5;124m'\u001b[39m, bitrate\u001b[38;5;241m=\u001b[39mbitrate, fps\u001b[38;5;241m=\u001b[39mfps, extra_args\u001b[38;5;241m=\u001b[39mextra_args)\n",
      "File \u001b[0;32m/opt/anaconda3/lib/python3.11/site-packages/matplotlib/animation.py:1105\u001b[0m, in \u001b[0;36mAnimation.save\u001b[0;34m(self, filename, writer, fps, dpi, codec, bitrate, extra_args, metadata, extra_anim, savefig_kwargs, progress_callback)\u001b[0m\n\u001b[1;32m   1102\u001b[0m \u001b[38;5;28;01mfor\u001b[39;00m data \u001b[38;5;129;01min\u001b[39;00m \u001b[38;5;28mzip\u001b[39m(\u001b[38;5;241m*\u001b[39m[a\u001b[38;5;241m.\u001b[39mnew_saved_frame_seq() \u001b[38;5;28;01mfor\u001b[39;00m a \u001b[38;5;129;01min\u001b[39;00m all_anim]):\n\u001b[1;32m   1103\u001b[0m     \u001b[38;5;28;01mfor\u001b[39;00m anim, d \u001b[38;5;129;01min\u001b[39;00m \u001b[38;5;28mzip\u001b[39m(all_anim, data):\n\u001b[1;32m   1104\u001b[0m         \u001b[38;5;66;03m# TODO: See if turning off blit is really necessary\u001b[39;00m\n\u001b[0;32m-> 1105\u001b[0m         anim\u001b[38;5;241m.\u001b[39m_draw_next_frame(d, blit\u001b[38;5;241m=\u001b[39m\u001b[38;5;28;01mFalse\u001b[39;00m)\n\u001b[1;32m   1106\u001b[0m         \u001b[38;5;28;01mif\u001b[39;00m progress_callback \u001b[38;5;129;01mis\u001b[39;00m \u001b[38;5;129;01mnot\u001b[39;00m \u001b[38;5;28;01mNone\u001b[39;00m:\n\u001b[1;32m   1107\u001b[0m             progress_callback(frame_number, total_frames)\n",
      "File \u001b[0;32m/opt/anaconda3/lib/python3.11/site-packages/matplotlib/animation.py:1141\u001b[0m, in \u001b[0;36mAnimation._draw_next_frame\u001b[0;34m(self, framedata, blit)\u001b[0m\n\u001b[1;32m   1139\u001b[0m \u001b[38;5;28mself\u001b[39m\u001b[38;5;241m.\u001b[39m_pre_draw(framedata, blit)\n\u001b[1;32m   1140\u001b[0m \u001b[38;5;28mself\u001b[39m\u001b[38;5;241m.\u001b[39m_draw_frame(framedata)\n\u001b[0;32m-> 1141\u001b[0m \u001b[38;5;28mself\u001b[39m\u001b[38;5;241m.\u001b[39m_post_draw(framedata, blit)\n",
      "File \u001b[0;32m/opt/anaconda3/lib/python3.11/site-packages/matplotlib/animation.py:1166\u001b[0m, in \u001b[0;36mAnimation._post_draw\u001b[0;34m(self, framedata, blit)\u001b[0m\n\u001b[1;32m   1164\u001b[0m     \u001b[38;5;28mself\u001b[39m\u001b[38;5;241m.\u001b[39m_blit_draw(\u001b[38;5;28mself\u001b[39m\u001b[38;5;241m.\u001b[39m_drawn_artists)\n\u001b[1;32m   1165\u001b[0m \u001b[38;5;28;01melse\u001b[39;00m:\n\u001b[0;32m-> 1166\u001b[0m     \u001b[38;5;28mself\u001b[39m\u001b[38;5;241m.\u001b[39m_fig\u001b[38;5;241m.\u001b[39mcanvas\u001b[38;5;241m.\u001b[39mdraw_idle()\n",
      "File \u001b[0;32m/opt/anaconda3/lib/python3.11/site-packages/matplotlib/backend_bases.py:1893\u001b[0m, in \u001b[0;36mFigureCanvasBase.draw_idle\u001b[0;34m(self, *args, **kwargs)\u001b[0m\n\u001b[1;32m   1891\u001b[0m \u001b[38;5;28;01mif\u001b[39;00m \u001b[38;5;129;01mnot\u001b[39;00m \u001b[38;5;28mself\u001b[39m\u001b[38;5;241m.\u001b[39m_is_idle_drawing:\n\u001b[1;32m   1892\u001b[0m     \u001b[38;5;28;01mwith\u001b[39;00m \u001b[38;5;28mself\u001b[39m\u001b[38;5;241m.\u001b[39m_idle_draw_cntx():\n\u001b[0;32m-> 1893\u001b[0m         \u001b[38;5;28mself\u001b[39m\u001b[38;5;241m.\u001b[39mdraw(\u001b[38;5;241m*\u001b[39margs, \u001b[38;5;241m*\u001b[39m\u001b[38;5;241m*\u001b[39mkwargs)\n",
      "File \u001b[0;32m/opt/anaconda3/lib/python3.11/site-packages/matplotlib/backends/backend_agg.py:388\u001b[0m, in \u001b[0;36mFigureCanvasAgg.draw\u001b[0;34m(self)\u001b[0m\n\u001b[1;32m    385\u001b[0m \u001b[38;5;66;03m# Acquire a lock on the shared font cache.\u001b[39;00m\n\u001b[1;32m    386\u001b[0m \u001b[38;5;28;01mwith\u001b[39;00m (\u001b[38;5;28mself\u001b[39m\u001b[38;5;241m.\u001b[39mtoolbar\u001b[38;5;241m.\u001b[39m_wait_cursor_for_draw_cm() \u001b[38;5;28;01mif\u001b[39;00m \u001b[38;5;28mself\u001b[39m\u001b[38;5;241m.\u001b[39mtoolbar\n\u001b[1;32m    387\u001b[0m       \u001b[38;5;28;01melse\u001b[39;00m nullcontext()):\n\u001b[0;32m--> 388\u001b[0m     \u001b[38;5;28mself\u001b[39m\u001b[38;5;241m.\u001b[39mfigure\u001b[38;5;241m.\u001b[39mdraw(\u001b[38;5;28mself\u001b[39m\u001b[38;5;241m.\u001b[39mrenderer)\n\u001b[1;32m    389\u001b[0m     \u001b[38;5;66;03m# A GUI class may be need to update a window using this draw, so\u001b[39;00m\n\u001b[1;32m    390\u001b[0m     \u001b[38;5;66;03m# don't forget to call the superclass.\u001b[39;00m\n\u001b[1;32m    391\u001b[0m     \u001b[38;5;28msuper\u001b[39m()\u001b[38;5;241m.\u001b[39mdraw()\n",
      "File \u001b[0;32m/opt/anaconda3/lib/python3.11/site-packages/matplotlib/artist.py:95\u001b[0m, in \u001b[0;36m_finalize_rasterization.<locals>.draw_wrapper\u001b[0;34m(artist, renderer, *args, **kwargs)\u001b[0m\n\u001b[1;32m     93\u001b[0m \u001b[38;5;129m@wraps\u001b[39m(draw)\n\u001b[1;32m     94\u001b[0m \u001b[38;5;28;01mdef\u001b[39;00m \u001b[38;5;21mdraw_wrapper\u001b[39m(artist, renderer, \u001b[38;5;241m*\u001b[39margs, \u001b[38;5;241m*\u001b[39m\u001b[38;5;241m*\u001b[39mkwargs):\n\u001b[0;32m---> 95\u001b[0m     result \u001b[38;5;241m=\u001b[39m draw(artist, renderer, \u001b[38;5;241m*\u001b[39margs, \u001b[38;5;241m*\u001b[39m\u001b[38;5;241m*\u001b[39mkwargs)\n\u001b[1;32m     96\u001b[0m     \u001b[38;5;28;01mif\u001b[39;00m renderer\u001b[38;5;241m.\u001b[39m_rasterizing:\n\u001b[1;32m     97\u001b[0m         renderer\u001b[38;5;241m.\u001b[39mstop_rasterizing()\n",
      "File \u001b[0;32m/opt/anaconda3/lib/python3.11/site-packages/matplotlib/artist.py:72\u001b[0m, in \u001b[0;36mallow_rasterization.<locals>.draw_wrapper\u001b[0;34m(artist, renderer)\u001b[0m\n\u001b[1;32m     69\u001b[0m     \u001b[38;5;28;01mif\u001b[39;00m artist\u001b[38;5;241m.\u001b[39mget_agg_filter() \u001b[38;5;129;01mis\u001b[39;00m \u001b[38;5;129;01mnot\u001b[39;00m \u001b[38;5;28;01mNone\u001b[39;00m:\n\u001b[1;32m     70\u001b[0m         renderer\u001b[38;5;241m.\u001b[39mstart_filter()\n\u001b[0;32m---> 72\u001b[0m     \u001b[38;5;28;01mreturn\u001b[39;00m draw(artist, renderer)\n\u001b[1;32m     73\u001b[0m \u001b[38;5;28;01mfinally\u001b[39;00m:\n\u001b[1;32m     74\u001b[0m     \u001b[38;5;28;01mif\u001b[39;00m artist\u001b[38;5;241m.\u001b[39mget_agg_filter() \u001b[38;5;129;01mis\u001b[39;00m \u001b[38;5;129;01mnot\u001b[39;00m \u001b[38;5;28;01mNone\u001b[39;00m:\n",
      "File \u001b[0;32m/opt/anaconda3/lib/python3.11/site-packages/matplotlib/figure.py:3154\u001b[0m, in \u001b[0;36mFigure.draw\u001b[0;34m(self, renderer)\u001b[0m\n\u001b[1;32m   3151\u001b[0m         \u001b[38;5;66;03m# ValueError can occur when resizing a window.\u001b[39;00m\n\u001b[1;32m   3153\u001b[0m \u001b[38;5;28mself\u001b[39m\u001b[38;5;241m.\u001b[39mpatch\u001b[38;5;241m.\u001b[39mdraw(renderer)\n\u001b[0;32m-> 3154\u001b[0m mimage\u001b[38;5;241m.\u001b[39m_draw_list_compositing_images(\n\u001b[1;32m   3155\u001b[0m     renderer, \u001b[38;5;28mself\u001b[39m, artists, \u001b[38;5;28mself\u001b[39m\u001b[38;5;241m.\u001b[39msuppressComposite)\n\u001b[1;32m   3157\u001b[0m \u001b[38;5;28;01mfor\u001b[39;00m sfig \u001b[38;5;129;01min\u001b[39;00m \u001b[38;5;28mself\u001b[39m\u001b[38;5;241m.\u001b[39msubfigs:\n\u001b[1;32m   3158\u001b[0m     sfig\u001b[38;5;241m.\u001b[39mdraw(renderer)\n",
      "File \u001b[0;32m/opt/anaconda3/lib/python3.11/site-packages/matplotlib/image.py:132\u001b[0m, in \u001b[0;36m_draw_list_compositing_images\u001b[0;34m(renderer, parent, artists, suppress_composite)\u001b[0m\n\u001b[1;32m    130\u001b[0m \u001b[38;5;28;01mif\u001b[39;00m not_composite \u001b[38;5;129;01mor\u001b[39;00m \u001b[38;5;129;01mnot\u001b[39;00m has_images:\n\u001b[1;32m    131\u001b[0m     \u001b[38;5;28;01mfor\u001b[39;00m a \u001b[38;5;129;01min\u001b[39;00m artists:\n\u001b[0;32m--> 132\u001b[0m         a\u001b[38;5;241m.\u001b[39mdraw(renderer)\n\u001b[1;32m    133\u001b[0m \u001b[38;5;28;01melse\u001b[39;00m:\n\u001b[1;32m    134\u001b[0m     \u001b[38;5;66;03m# Composite any adjacent images together\u001b[39;00m\n\u001b[1;32m    135\u001b[0m     image_group \u001b[38;5;241m=\u001b[39m []\n",
      "File \u001b[0;32m/opt/anaconda3/lib/python3.11/site-packages/matplotlib/artist.py:72\u001b[0m, in \u001b[0;36mallow_rasterization.<locals>.draw_wrapper\u001b[0;34m(artist, renderer)\u001b[0m\n\u001b[1;32m     69\u001b[0m     \u001b[38;5;28;01mif\u001b[39;00m artist\u001b[38;5;241m.\u001b[39mget_agg_filter() \u001b[38;5;129;01mis\u001b[39;00m \u001b[38;5;129;01mnot\u001b[39;00m \u001b[38;5;28;01mNone\u001b[39;00m:\n\u001b[1;32m     70\u001b[0m         renderer\u001b[38;5;241m.\u001b[39mstart_filter()\n\u001b[0;32m---> 72\u001b[0m     \u001b[38;5;28;01mreturn\u001b[39;00m draw(artist, renderer)\n\u001b[1;32m     73\u001b[0m \u001b[38;5;28;01mfinally\u001b[39;00m:\n\u001b[1;32m     74\u001b[0m     \u001b[38;5;28;01mif\u001b[39;00m artist\u001b[38;5;241m.\u001b[39mget_agg_filter() \u001b[38;5;129;01mis\u001b[39;00m \u001b[38;5;129;01mnot\u001b[39;00m \u001b[38;5;28;01mNone\u001b[39;00m:\n",
      "File \u001b[0;32m/opt/anaconda3/lib/python3.11/site-packages/matplotlib/axes/_base.py:3070\u001b[0m, in \u001b[0;36m_AxesBase.draw\u001b[0;34m(self, renderer)\u001b[0m\n\u001b[1;32m   3067\u001b[0m \u001b[38;5;28;01mif\u001b[39;00m artists_rasterized:\n\u001b[1;32m   3068\u001b[0m     _draw_rasterized(\u001b[38;5;28mself\u001b[39m\u001b[38;5;241m.\u001b[39mfigure, artists_rasterized, renderer)\n\u001b[0;32m-> 3070\u001b[0m mimage\u001b[38;5;241m.\u001b[39m_draw_list_compositing_images(\n\u001b[1;32m   3071\u001b[0m     renderer, \u001b[38;5;28mself\u001b[39m, artists, \u001b[38;5;28mself\u001b[39m\u001b[38;5;241m.\u001b[39mfigure\u001b[38;5;241m.\u001b[39msuppressComposite)\n\u001b[1;32m   3073\u001b[0m renderer\u001b[38;5;241m.\u001b[39mclose_group(\u001b[38;5;124m'\u001b[39m\u001b[38;5;124maxes\u001b[39m\u001b[38;5;124m'\u001b[39m)\n\u001b[1;32m   3074\u001b[0m \u001b[38;5;28mself\u001b[39m\u001b[38;5;241m.\u001b[39mstale \u001b[38;5;241m=\u001b[39m \u001b[38;5;28;01mFalse\u001b[39;00m\n",
      "File \u001b[0;32m/opt/anaconda3/lib/python3.11/site-packages/matplotlib/image.py:132\u001b[0m, in \u001b[0;36m_draw_list_compositing_images\u001b[0;34m(renderer, parent, artists, suppress_composite)\u001b[0m\n\u001b[1;32m    130\u001b[0m \u001b[38;5;28;01mif\u001b[39;00m not_composite \u001b[38;5;129;01mor\u001b[39;00m \u001b[38;5;129;01mnot\u001b[39;00m has_images:\n\u001b[1;32m    131\u001b[0m     \u001b[38;5;28;01mfor\u001b[39;00m a \u001b[38;5;129;01min\u001b[39;00m artists:\n\u001b[0;32m--> 132\u001b[0m         a\u001b[38;5;241m.\u001b[39mdraw(renderer)\n\u001b[1;32m    133\u001b[0m \u001b[38;5;28;01melse\u001b[39;00m:\n\u001b[1;32m    134\u001b[0m     \u001b[38;5;66;03m# Composite any adjacent images together\u001b[39;00m\n\u001b[1;32m    135\u001b[0m     image_group \u001b[38;5;241m=\u001b[39m []\n",
      "File \u001b[0;32m/opt/anaconda3/lib/python3.11/site-packages/matplotlib/artist.py:72\u001b[0m, in \u001b[0;36mallow_rasterization.<locals>.draw_wrapper\u001b[0;34m(artist, renderer)\u001b[0m\n\u001b[1;32m     69\u001b[0m     \u001b[38;5;28;01mif\u001b[39;00m artist\u001b[38;5;241m.\u001b[39mget_agg_filter() \u001b[38;5;129;01mis\u001b[39;00m \u001b[38;5;129;01mnot\u001b[39;00m \u001b[38;5;28;01mNone\u001b[39;00m:\n\u001b[1;32m     70\u001b[0m         renderer\u001b[38;5;241m.\u001b[39mstart_filter()\n\u001b[0;32m---> 72\u001b[0m     \u001b[38;5;28;01mreturn\u001b[39;00m draw(artist, renderer)\n\u001b[1;32m     73\u001b[0m \u001b[38;5;28;01mfinally\u001b[39;00m:\n\u001b[1;32m     74\u001b[0m     \u001b[38;5;28;01mif\u001b[39;00m artist\u001b[38;5;241m.\u001b[39mget_agg_filter() \u001b[38;5;129;01mis\u001b[39;00m \u001b[38;5;129;01mnot\u001b[39;00m \u001b[38;5;28;01mNone\u001b[39;00m:\n",
      "File \u001b[0;32m/opt/anaconda3/lib/python3.11/site-packages/matplotlib/text.py:748\u001b[0m, in \u001b[0;36mText.draw\u001b[0;34m(self, renderer)\u001b[0m\n\u001b[1;32m    745\u001b[0m renderer\u001b[38;5;241m.\u001b[39mopen_group(\u001b[38;5;124m'\u001b[39m\u001b[38;5;124mtext\u001b[39m\u001b[38;5;124m'\u001b[39m, \u001b[38;5;28mself\u001b[39m\u001b[38;5;241m.\u001b[39mget_gid())\n\u001b[1;32m    747\u001b[0m \u001b[38;5;28;01mwith\u001b[39;00m \u001b[38;5;28mself\u001b[39m\u001b[38;5;241m.\u001b[39m_cm_set(text\u001b[38;5;241m=\u001b[39m\u001b[38;5;28mself\u001b[39m\u001b[38;5;241m.\u001b[39m_get_wrapped_text()):\n\u001b[0;32m--> 748\u001b[0m     bbox, info, descent \u001b[38;5;241m=\u001b[39m \u001b[38;5;28mself\u001b[39m\u001b[38;5;241m.\u001b[39m_get_layout(renderer)\n\u001b[1;32m    749\u001b[0m     trans \u001b[38;5;241m=\u001b[39m \u001b[38;5;28mself\u001b[39m\u001b[38;5;241m.\u001b[39mget_transform()\n\u001b[1;32m    751\u001b[0m     \u001b[38;5;66;03m# don't use self.get_position here, which refers to text\u001b[39;00m\n\u001b[1;32m    752\u001b[0m     \u001b[38;5;66;03m# position in Text:\u001b[39;00m\n",
      "File \u001b[0;32m/opt/anaconda3/lib/python3.11/site-packages/matplotlib/text.py:381\u001b[0m, in \u001b[0;36mText._get_layout\u001b[0;34m(self, renderer)\u001b[0m\n\u001b[1;32m    379\u001b[0m clean_line, ismath \u001b[38;5;241m=\u001b[39m \u001b[38;5;28mself\u001b[39m\u001b[38;5;241m.\u001b[39m_preprocess_math(line)\n\u001b[1;32m    380\u001b[0m \u001b[38;5;28;01mif\u001b[39;00m clean_line:\n\u001b[0;32m--> 381\u001b[0m     w, h, d \u001b[38;5;241m=\u001b[39m _get_text_metrics_with_cache(\n\u001b[1;32m    382\u001b[0m         renderer, clean_line, \u001b[38;5;28mself\u001b[39m\u001b[38;5;241m.\u001b[39m_fontproperties,\n\u001b[1;32m    383\u001b[0m         ismath\u001b[38;5;241m=\u001b[39mismath, dpi\u001b[38;5;241m=\u001b[39m\u001b[38;5;28mself\u001b[39m\u001b[38;5;241m.\u001b[39mfigure\u001b[38;5;241m.\u001b[39mdpi)\n\u001b[1;32m    384\u001b[0m \u001b[38;5;28;01melse\u001b[39;00m:\n\u001b[1;32m    385\u001b[0m     w \u001b[38;5;241m=\u001b[39m h \u001b[38;5;241m=\u001b[39m d \u001b[38;5;241m=\u001b[39m \u001b[38;5;241m0\u001b[39m\n",
      "File \u001b[0;32m/opt/anaconda3/lib/python3.11/site-packages/matplotlib/text.py:69\u001b[0m, in \u001b[0;36m_get_text_metrics_with_cache\u001b[0;34m(renderer, text, fontprop, ismath, dpi)\u001b[0m\n\u001b[1;32m     66\u001b[0m \u001b[38;5;250m\u001b[39m\u001b[38;5;124;03m\"\"\"Call ``renderer.get_text_width_height_descent``, caching the results.\"\"\"\u001b[39;00m\n\u001b[1;32m     67\u001b[0m \u001b[38;5;66;03m# Cached based on a copy of fontprop so that later in-place mutations of\u001b[39;00m\n\u001b[1;32m     68\u001b[0m \u001b[38;5;66;03m# the passed-in argument do not mess up the cache.\u001b[39;00m\n\u001b[0;32m---> 69\u001b[0m \u001b[38;5;28;01mreturn\u001b[39;00m _get_text_metrics_with_cache_impl(\n\u001b[1;32m     70\u001b[0m     weakref\u001b[38;5;241m.\u001b[39mref(renderer), text, fontprop\u001b[38;5;241m.\u001b[39mcopy(), ismath, dpi)\n",
      "File \u001b[0;32m/opt/anaconda3/lib/python3.11/site-packages/matplotlib/text.py:77\u001b[0m, in \u001b[0;36m_get_text_metrics_with_cache_impl\u001b[0;34m(renderer_ref, text, fontprop, ismath, dpi)\u001b[0m\n\u001b[1;32m     73\u001b[0m \u001b[38;5;129m@functools\u001b[39m\u001b[38;5;241m.\u001b[39mlru_cache(\u001b[38;5;241m4096\u001b[39m)\n\u001b[1;32m     74\u001b[0m \u001b[38;5;28;01mdef\u001b[39;00m \u001b[38;5;21m_get_text_metrics_with_cache_impl\u001b[39m(\n\u001b[1;32m     75\u001b[0m         renderer_ref, text, fontprop, ismath, dpi):\n\u001b[1;32m     76\u001b[0m     \u001b[38;5;66;03m# dpi is unused, but participates in cache invalidation (via the renderer).\u001b[39;00m\n\u001b[0;32m---> 77\u001b[0m     \u001b[38;5;28;01mreturn\u001b[39;00m renderer_ref()\u001b[38;5;241m.\u001b[39mget_text_width_height_descent(text, fontprop, ismath)\n",
      "File \u001b[0;32m/opt/anaconda3/lib/python3.11/site-packages/matplotlib/backends/backend_agg.py:213\u001b[0m, in \u001b[0;36mRendererAgg.get_text_width_height_descent\u001b[0;34m(self, s, prop, ismath)\u001b[0m\n\u001b[1;32m    211\u001b[0m _api\u001b[38;5;241m.\u001b[39mcheck_in_list([\u001b[38;5;124m\"\u001b[39m\u001b[38;5;124mTeX\u001b[39m\u001b[38;5;124m\"\u001b[39m, \u001b[38;5;28;01mTrue\u001b[39;00m, \u001b[38;5;28;01mFalse\u001b[39;00m], ismath\u001b[38;5;241m=\u001b[39mismath)\n\u001b[1;32m    212\u001b[0m \u001b[38;5;28;01mif\u001b[39;00m ismath \u001b[38;5;241m==\u001b[39m \u001b[38;5;124m\"\u001b[39m\u001b[38;5;124mTeX\u001b[39m\u001b[38;5;124m\"\u001b[39m:\n\u001b[0;32m--> 213\u001b[0m     \u001b[38;5;28;01mreturn\u001b[39;00m \u001b[38;5;28msuper\u001b[39m()\u001b[38;5;241m.\u001b[39mget_text_width_height_descent(s, prop, ismath)\n\u001b[1;32m    215\u001b[0m \u001b[38;5;28;01mif\u001b[39;00m ismath:\n\u001b[1;32m    216\u001b[0m     ox, oy, width, height, descent, font_image \u001b[38;5;241m=\u001b[39m \\\n\u001b[1;32m    217\u001b[0m         \u001b[38;5;28mself\u001b[39m\u001b[38;5;241m.\u001b[39mmathtext_parser\u001b[38;5;241m.\u001b[39mparse(s, \u001b[38;5;28mself\u001b[39m\u001b[38;5;241m.\u001b[39mdpi, prop)\n",
      "File \u001b[0;32m/opt/anaconda3/lib/python3.11/site-packages/matplotlib/backend_bases.py:652\u001b[0m, in \u001b[0;36mRendererBase.get_text_width_height_descent\u001b[0;34m(self, s, prop, ismath)\u001b[0m\n\u001b[1;32m    648\u001b[0m fontsize \u001b[38;5;241m=\u001b[39m prop\u001b[38;5;241m.\u001b[39mget_size_in_points()\n\u001b[1;32m    650\u001b[0m \u001b[38;5;28;01mif\u001b[39;00m ismath \u001b[38;5;241m==\u001b[39m \u001b[38;5;124m'\u001b[39m\u001b[38;5;124mTeX\u001b[39m\u001b[38;5;124m'\u001b[39m:\n\u001b[1;32m    651\u001b[0m     \u001b[38;5;66;03m# todo: handle properties\u001b[39;00m\n\u001b[0;32m--> 652\u001b[0m     \u001b[38;5;28;01mreturn\u001b[39;00m \u001b[38;5;28mself\u001b[39m\u001b[38;5;241m.\u001b[39mget_texmanager()\u001b[38;5;241m.\u001b[39mget_text_width_height_descent(\n\u001b[1;32m    653\u001b[0m         s, fontsize, renderer\u001b[38;5;241m=\u001b[39m\u001b[38;5;28mself\u001b[39m)\n\u001b[1;32m    655\u001b[0m dpi \u001b[38;5;241m=\u001b[39m \u001b[38;5;28mself\u001b[39m\u001b[38;5;241m.\u001b[39mpoints_to_pixels(\u001b[38;5;241m72\u001b[39m)\n\u001b[1;32m    656\u001b[0m \u001b[38;5;28;01mif\u001b[39;00m ismath:\n",
      "File \u001b[0;32m/opt/anaconda3/lib/python3.11/site-packages/matplotlib/texmanager.py:363\u001b[0m, in \u001b[0;36mTexManager.get_text_width_height_descent\u001b[0;34m(cls, tex, fontsize, renderer)\u001b[0m\n\u001b[1;32m    361\u001b[0m \u001b[38;5;28;01mif\u001b[39;00m tex\u001b[38;5;241m.\u001b[39mstrip() \u001b[38;5;241m==\u001b[39m \u001b[38;5;124m'\u001b[39m\u001b[38;5;124m'\u001b[39m:\n\u001b[1;32m    362\u001b[0m     \u001b[38;5;28;01mreturn\u001b[39;00m \u001b[38;5;241m0\u001b[39m, \u001b[38;5;241m0\u001b[39m, \u001b[38;5;241m0\u001b[39m\n\u001b[0;32m--> 363\u001b[0m dvifile \u001b[38;5;241m=\u001b[39m \u001b[38;5;28mcls\u001b[39m\u001b[38;5;241m.\u001b[39mmake_dvi(tex, fontsize)\n\u001b[1;32m    364\u001b[0m dpi_fraction \u001b[38;5;241m=\u001b[39m renderer\u001b[38;5;241m.\u001b[39mpoints_to_pixels(\u001b[38;5;241m1.\u001b[39m) \u001b[38;5;28;01mif\u001b[39;00m renderer \u001b[38;5;28;01melse\u001b[39;00m \u001b[38;5;241m1\u001b[39m\n\u001b[1;32m    365\u001b[0m \u001b[38;5;28;01mwith\u001b[39;00m dviread\u001b[38;5;241m.\u001b[39mDvi(dvifile, \u001b[38;5;241m72\u001b[39m \u001b[38;5;241m*\u001b[39m dpi_fraction) \u001b[38;5;28;01mas\u001b[39;00m dvi:\n",
      "File \u001b[0;32m/opt/anaconda3/lib/python3.11/site-packages/matplotlib/texmanager.py:295\u001b[0m, in \u001b[0;36mTexManager.make_dvi\u001b[0;34m(cls, tex, fontsize)\u001b[0m\n\u001b[1;32m    293\u001b[0m     \u001b[38;5;28;01mwith\u001b[39;00m TemporaryDirectory(\u001b[38;5;28mdir\u001b[39m\u001b[38;5;241m=\u001b[39mcwd) \u001b[38;5;28;01mas\u001b[39;00m tmpdir:\n\u001b[1;32m    294\u001b[0m         tmppath \u001b[38;5;241m=\u001b[39m Path(tmpdir)\n\u001b[0;32m--> 295\u001b[0m         \u001b[38;5;28mcls\u001b[39m\u001b[38;5;241m.\u001b[39m_run_checked_subprocess(\n\u001b[1;32m    296\u001b[0m             [\u001b[38;5;124m\"\u001b[39m\u001b[38;5;124mlatex\u001b[39m\u001b[38;5;124m\"\u001b[39m, \u001b[38;5;124m\"\u001b[39m\u001b[38;5;124m-interaction=nonstopmode\u001b[39m\u001b[38;5;124m\"\u001b[39m, \u001b[38;5;124m\"\u001b[39m\u001b[38;5;124m--halt-on-error\u001b[39m\u001b[38;5;124m\"\u001b[39m,\n\u001b[1;32m    297\u001b[0m              \u001b[38;5;124mf\u001b[39m\u001b[38;5;124m\"\u001b[39m\u001b[38;5;124m--output-directory=\u001b[39m\u001b[38;5;132;01m{\u001b[39;00mtmppath\u001b[38;5;241m.\u001b[39mname\u001b[38;5;132;01m}\u001b[39;00m\u001b[38;5;124m\"\u001b[39m,\n\u001b[1;32m    298\u001b[0m              \u001b[38;5;124mf\u001b[39m\u001b[38;5;124m\"\u001b[39m\u001b[38;5;132;01m{\u001b[39;00mtexfile\u001b[38;5;241m.\u001b[39mname\u001b[38;5;132;01m}\u001b[39;00m\u001b[38;5;124m\"\u001b[39m], tex, cwd\u001b[38;5;241m=\u001b[39mcwd)\n\u001b[1;32m    299\u001b[0m         (tmppath \u001b[38;5;241m/\u001b[39m Path(dvifile)\u001b[38;5;241m.\u001b[39mname)\u001b[38;5;241m.\u001b[39mreplace(dvifile)\n\u001b[1;32m    300\u001b[0m \u001b[38;5;28;01mreturn\u001b[39;00m dvifile\n",
      "File \u001b[0;32m/opt/anaconda3/lib/python3.11/site-packages/matplotlib/texmanager.py:250\u001b[0m, in \u001b[0;36mTexManager._run_checked_subprocess\u001b[0;34m(cls, command, tex, cwd)\u001b[0m\n\u001b[1;32m    248\u001b[0m _log\u001b[38;5;241m.\u001b[39mdebug(cbook\u001b[38;5;241m.\u001b[39m_pformat_subprocess(command))\n\u001b[1;32m    249\u001b[0m \u001b[38;5;28;01mtry\u001b[39;00m:\n\u001b[0;32m--> 250\u001b[0m     report \u001b[38;5;241m=\u001b[39m subprocess\u001b[38;5;241m.\u001b[39mcheck_output(\n\u001b[1;32m    251\u001b[0m         command, cwd\u001b[38;5;241m=\u001b[39mcwd \u001b[38;5;28;01mif\u001b[39;00m cwd \u001b[38;5;129;01mis\u001b[39;00m \u001b[38;5;129;01mnot\u001b[39;00m \u001b[38;5;28;01mNone\u001b[39;00m \u001b[38;5;28;01melse\u001b[39;00m \u001b[38;5;28mcls\u001b[39m\u001b[38;5;241m.\u001b[39m_texcache,\n\u001b[1;32m    252\u001b[0m         stderr\u001b[38;5;241m=\u001b[39msubprocess\u001b[38;5;241m.\u001b[39mSTDOUT)\n\u001b[1;32m    253\u001b[0m \u001b[38;5;28;01mexcept\u001b[39;00m \u001b[38;5;167;01mFileNotFoundError\u001b[39;00m \u001b[38;5;28;01mas\u001b[39;00m exc:\n\u001b[1;32m    254\u001b[0m     \u001b[38;5;28;01mraise\u001b[39;00m \u001b[38;5;167;01mRuntimeError\u001b[39;00m(\n\u001b[1;32m    255\u001b[0m         \u001b[38;5;124mf\u001b[39m\u001b[38;5;124m'\u001b[39m\u001b[38;5;124mFailed to process string with tex because \u001b[39m\u001b[38;5;132;01m{\u001b[39;00mcommand[\u001b[38;5;241m0\u001b[39m]\u001b[38;5;132;01m}\u001b[39;00m\u001b[38;5;124m \u001b[39m\u001b[38;5;124m'\u001b[39m\n\u001b[1;32m    256\u001b[0m         \u001b[38;5;124m'\u001b[39m\u001b[38;5;124mcould not be found\u001b[39m\u001b[38;5;124m'\u001b[39m) \u001b[38;5;28;01mfrom\u001b[39;00m \u001b[38;5;21;01mexc\u001b[39;00m\n",
      "File \u001b[0;32m/opt/anaconda3/lib/python3.11/subprocess.py:466\u001b[0m, in \u001b[0;36mcheck_output\u001b[0;34m(timeout, *popenargs, **kwargs)\u001b[0m\n\u001b[1;32m    463\u001b[0m         empty \u001b[38;5;241m=\u001b[39m \u001b[38;5;124mb\u001b[39m\u001b[38;5;124m'\u001b[39m\u001b[38;5;124m'\u001b[39m\n\u001b[1;32m    464\u001b[0m     kwargs[\u001b[38;5;124m'\u001b[39m\u001b[38;5;124minput\u001b[39m\u001b[38;5;124m'\u001b[39m] \u001b[38;5;241m=\u001b[39m empty\n\u001b[0;32m--> 466\u001b[0m \u001b[38;5;28;01mreturn\u001b[39;00m run(\u001b[38;5;241m*\u001b[39mpopenargs, stdout\u001b[38;5;241m=\u001b[39mPIPE, timeout\u001b[38;5;241m=\u001b[39mtimeout, check\u001b[38;5;241m=\u001b[39m\u001b[38;5;28;01mTrue\u001b[39;00m,\n\u001b[1;32m    467\u001b[0m            \u001b[38;5;241m*\u001b[39m\u001b[38;5;241m*\u001b[39mkwargs)\u001b[38;5;241m.\u001b[39mstdout\n",
      "File \u001b[0;32m/opt/anaconda3/lib/python3.11/subprocess.py:550\u001b[0m, in \u001b[0;36mrun\u001b[0;34m(input, capture_output, timeout, check, *popenargs, **kwargs)\u001b[0m\n\u001b[1;32m    548\u001b[0m \u001b[38;5;28;01mwith\u001b[39;00m Popen(\u001b[38;5;241m*\u001b[39mpopenargs, \u001b[38;5;241m*\u001b[39m\u001b[38;5;241m*\u001b[39mkwargs) \u001b[38;5;28;01mas\u001b[39;00m process:\n\u001b[1;32m    549\u001b[0m     \u001b[38;5;28;01mtry\u001b[39;00m:\n\u001b[0;32m--> 550\u001b[0m         stdout, stderr \u001b[38;5;241m=\u001b[39m process\u001b[38;5;241m.\u001b[39mcommunicate(\u001b[38;5;28minput\u001b[39m, timeout\u001b[38;5;241m=\u001b[39mtimeout)\n\u001b[1;32m    551\u001b[0m     \u001b[38;5;28;01mexcept\u001b[39;00m TimeoutExpired \u001b[38;5;28;01mas\u001b[39;00m exc:\n\u001b[1;32m    552\u001b[0m         process\u001b[38;5;241m.\u001b[39mkill()\n",
      "File \u001b[0;32m/opt/anaconda3/lib/python3.11/subprocess.py:1196\u001b[0m, in \u001b[0;36mPopen.communicate\u001b[0;34m(self, input, timeout)\u001b[0m\n\u001b[1;32m   1194\u001b[0m     \u001b[38;5;28mself\u001b[39m\u001b[38;5;241m.\u001b[39m_stdin_write(\u001b[38;5;28minput\u001b[39m)\n\u001b[1;32m   1195\u001b[0m \u001b[38;5;28;01melif\u001b[39;00m \u001b[38;5;28mself\u001b[39m\u001b[38;5;241m.\u001b[39mstdout:\n\u001b[0;32m-> 1196\u001b[0m     stdout \u001b[38;5;241m=\u001b[39m \u001b[38;5;28mself\u001b[39m\u001b[38;5;241m.\u001b[39mstdout\u001b[38;5;241m.\u001b[39mread()\n\u001b[1;32m   1197\u001b[0m     \u001b[38;5;28mself\u001b[39m\u001b[38;5;241m.\u001b[39mstdout\u001b[38;5;241m.\u001b[39mclose()\n\u001b[1;32m   1198\u001b[0m \u001b[38;5;28;01melif\u001b[39;00m \u001b[38;5;28mself\u001b[39m\u001b[38;5;241m.\u001b[39mstderr:\n",
      "\u001b[0;31mKeyboardInterrupt\u001b[0m: "
     ]
    }
   ],
   "source": [
    "address = 'Data/SimulacionData2.npz'\n",
    "figData = plt.subplots(nrows=1, ncols=1, figsize=(5, 4), sharex=False, sharey=False, gridspec_kw=dict(hspace=0.0, wspace=.13))\n",
    "dvideo = mod.Visualization(address, figData)\n",
    "\n",
    "n0 = 0\n",
    "dataname = '.data'\n",
    "nameV = 'video_guitar2'\n",
    "xmin, xmax, ls, lw, color = xi[0], xi[-1], '-', 1, '#f0784d'\n",
    "struc = [xmin, xmax, ls, lw, color]\n",
    "\n",
    "dvideo.video(n0, dataname, struc, nameV, show=True, ylim=[-.01, .01])"
   ]
  },
  {
   "cell_type": "code",
   "execution_count": null,
   "metadata": {},
   "outputs": [],
   "source": [
    "#"
   ]
  },
  {
   "cell_type": "code",
   "execution_count": null,
   "metadata": {},
   "outputs": [],
   "source": [
    "def guitar():\n",
    "    \"\"\"Triangular wave (pulled guitar string).\"\"\"\n",
    "    xmax = 0.75\n",
    "    x0 = 0.8*xmax\n",
    "    a = 0.005\n",
    "    freq = 440\n",
    "    wavelength = 2*xmax\n",
    "    c = freq*wavelength\n",
    "    C = 1\n",
    "    omega = 2*np.pi*freq\n",
    "    num_periods = 2\n",
    "    tmax = 2*np.pi/omega*num_periods\n",
    "    # Choose dt the same as the stability limit for Nx=50\n",
    "    Nx = 80 \n",
    "    dt = xmax/Nx/c\n",
    "\n",
    "    def I(x):\n",
    "        Ixi = a*x/x0\n",
    "        ind = x > x0\n",
    "        Ixi[ind] = a/(xmax-x0)*(xmax-x[ind])\n",
    "        return Ixi\n",
    "\n",
    "    u, xi, ti, cpu_time = mod.solver(I, xmax, tmax, dt, C, c=c, ZipName='SimulacionData2')   \n",
    "    return u, xi, ti, cpu_time"
   ]
  },
  {
   "cell_type": "code",
   "execution_count": null,
   "metadata": {},
   "outputs": [],
   "source": [
    "u, xi, ti, cpu_time = guitar()"
   ]
  },
  {
   "cell_type": "code",
   "execution_count": null,
   "metadata": {},
   "outputs": [],
   "source": [
    "address = 'Data/SimulacionData2.npz'\n",
    "figData = plt.subplots(nrows=1, ncols=1, figsize=(5, 4), sharex=False, sharey=False, gridspec_kw=dict(hspace=0.0, wspace=.13))\n",
    "dvideo = mod.Visualization(address, figData)\n",
    "\n",
    "n0 = 0\n",
    "dataname = '.data'\n",
    "nameV = 'video_guitar'\n",
    "xmin, xmax, ls, lw, color = xi[0], xi[-1], '-', 1, '#f0784d'\n",
    "struc = [xmin, xmax, ls, lw, color]\n",
    "\n",
    "dvideo.video(n0, dataname, struc, nameV, show=True, ylim=[-.01, .01])"
   ]
  },
  {
   "cell_type": "code",
   "execution_count": null,
   "metadata": {},
   "outputs": [],
   "source": []
  },
  {
   "cell_type": "code",
   "execution_count": null,
   "metadata": {},
   "outputs": [],
   "source": []
  }
 ],
 "metadata": {
  "kernelspec": {
   "display_name": "base",
   "language": "python",
   "name": "python3"
  },
  "language_info": {
   "codemirror_mode": {
    "name": "ipython",
    "version": 3
   },
   "file_extension": ".py",
   "mimetype": "text/x-python",
   "name": "python",
   "nbconvert_exporter": "python",
   "pygments_lexer": "ipython3",
   "version": "3.11.7"
  }
 },
 "nbformat": 4,
 "nbformat_minor": 2
}
